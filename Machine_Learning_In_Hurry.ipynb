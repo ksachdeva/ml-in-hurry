{
  "nbformat": 4,
  "nbformat_minor": 0,
  "metadata": {
    "colab": {
      "name": "Machine_Learning_In_Hurry.ipynb",
      "version": "0.3.2",
      "provenance": [],
      "collapsed_sections": [],
      "include_colab_link": true
    },
    "kernelspec": {
      "name": "python3",
      "display_name": "Python 3"
    }
  },
  "cells": [
    {
      "cell_type": "markdown",
      "metadata": {
        "id": "view-in-github",
        "colab_type": "text"
      },
      "source": [
        "<a href=\"https://colab.research.google.com/github/ksachdeva/ml-in-hurry/blob/master/Machine_Learning_In_Hurry.ipynb\" target=\"_parent\"><img src=\"https://colab.research.google.com/assets/colab-badge.svg\" alt=\"Open In Colab\"/></a>"
      ]
    },
    {
      "metadata": {
        "id": "qHShVSbvZ6DO",
        "colab_type": "text"
      },
      "cell_type": "markdown",
      "source": [
        ">>>>> <img src=\"https://media.giphy.com/media/l41lUYsrdGwRowfss/giphy.gif\" alt=\"\" title=\"\" />  \n",
        "\n",
        ">>>>>> # Machine Learning In Hurry"
      ]
    },
    {
      "metadata": {
        "id": "QFXpJBsMt03U",
        "colab_type": "text"
      },
      "cell_type": "markdown",
      "source": [
        "# Python module imports"
      ]
    },
    {
      "metadata": {
        "id": "8l3dOOiQfvua",
        "colab_type": "code",
        "colab": {}
      },
      "cell_type": "code",
      "source": [
        "# Install all the dependencies\n",
        "\n",
        "# Various imports\n",
        "%matplotlib inline\n",
        "\n",
        "\n",
        "import numpy as np\n",
        "import pandas as pd\n",
        "import matplotlib.pyplot as plt\n",
        "import matplotlib.animation as animation\n",
        "from mpl_toolkits.mplot3d import Axes3D\n",
        "\n",
        "from IPython.display import HTML"
      ],
      "execution_count": 0,
      "outputs": []
    },
    {
      "metadata": {
        "id": "BXKq3Ai3eQVf",
        "colab_type": "text"
      },
      "cell_type": "markdown",
      "source": [
        "#Mathematics Review"
      ]
    },
    {
      "metadata": {
        "id": "TFTtFrLpea9q",
        "colab_type": "text"
      },
      "cell_type": "markdown",
      "source": [
        "##  Polynomials"
      ]
    },
    {
      "metadata": {
        "id": "Bxm07jP9eNss",
        "colab_type": "code",
        "outputId": "bf3580bf-2293-4f0f-ac68-569d12120bd2",
        "colab": {
          "base_uri": "https://localhost:8080/",
          "height": 295
        }
      },
      "cell_type": "code",
      "source": [
        "# get evenly spaced numbers over a specified interval.\n",
        "x1 = np.linspace(-1, 1, 100)  \n",
        "\n",
        "y1 = (3*x1 + 5)               # degree 1, binomial\n",
        "y2 = (3*x1**2)                # degree 2, monomial\n",
        "y3 = (3*x1**3 + 2*x1 + 1)     # degree 3, binomial\n",
        "y4 = (4*x1**4 + 3*x1**2 + 3)  # degree 4, trinomial\n",
        "\n",
        "# let's plot them\n",
        "plt.subplot(2, 2, 1)\n",
        "plt.plot(x1, y1)\n",
        "plt.title('Various Polynomials')\n",
        "plt.ylabel('y1')\n",
        "plt.xlabel('x')\n",
        "\n",
        "plt.subplot(2, 2, 2)\n",
        "plt.plot(x1, y2)\n",
        "plt.ylabel('y2')\n",
        "plt.xlabel('x')\n",
        "\n",
        "plt.subplot(2, 2, 3)\n",
        "plt.plot(x1, y3)\n",
        "plt.ylabel('y3')\n",
        "plt.xlabel('x')\n",
        "\n",
        "plt.subplot(2, 2, 4)\n",
        "plt.plot(x1, y4)\n",
        "plt.ylabel('y4')\n",
        "plt.xlabel('x')\n",
        "\n",
        "plt.show()"
      ],
      "execution_count": 4,
      "outputs": [
        {
          "output_type": "display_data",
          "data": {
            "image/png": "[encoded data removed]",
            "text/plain": [
              "<matplotlib.figure.Figure at 0x7f69a7e11390>"
            ]
          },
          "metadata": {
            "tags": []
          }
        }
      ]
    },
    {
      "metadata": {
        "id": "Re2pClyvn5aF",
        "colab_type": "text"
      },
      "cell_type": "markdown",
      "source": [
        "## Functions\n",
        "\n",
        "### Math vs Programming \n",
        "\n",
        "\n",
        "> $y$ = $3x$ + 5\n",
        "\n",
        "\n",
        "The above expression can also be written as \n",
        "\n",
        "\n",
        "> $f(x)$  = $3x$ + 5\n",
        "\n",
        "\n",
        "If we were to use a programming language to implement above we would write it as :\n",
        "\n",
        "\n",
        "```python\n",
        "# a python function\n",
        "def myFun(x):\n",
        "  return 3*x + 5\n",
        "\n",
        "y = myFun(45)\n",
        "\n",
        "```\n",
        "\n",
        "```javascript\n",
        "// a javascript function\n",
        "function myFun(x) {\n",
        "  return 3*x + 5\n",
        "}\n",
        "\n",
        "var y = myFun(5)\n",
        "\n",
        "```\n",
        "\n",
        "Pretty similar however for the same function\n",
        "\n",
        "* mathematician will say that  $y$ is  a **dependent** variable and $x$ is an **independent** variable.\n",
        "\n",
        "* programmer will say that $x$ is an **input** (or **parameter** or **argument**) and $y$ is an **output** and the name of function is **myFun**.\n",
        "\n",
        "\n",
        "Now let's consider this -\n",
        "\n",
        "\n",
        "```python\n",
        "# a python function\n",
        "def myFun2(x):\n",
        "  x2 = 3*x + 5\n",
        "  x3 = makeHttpCall(x2)    # <-- introduces side effects\n",
        "  return x3\n",
        "\n",
        "y = myFun(45)\n",
        "\n",
        "```\n",
        "\n",
        "While above is still a function from a programming language point of view it is not a **pure** function. In other words it has **side effects**. \n",
        "\n",
        "\n",
        "\n",
        "### Types of functions\n",
        "\n",
        "*Univariate function*  (=> 1 independent variable)\n",
        "\n",
        "> $f(x)$ = $y = 3x + 5$\n",
        "\n",
        "*Bivariate function* (=> 2 independent variables)\n",
        "\n",
        "> $f(x,z)$ = $y = 3x + 7z + 3$ \n",
        "\n",
        "*Multivariate function*  (=> 2 or more independent variables)\n",
        "\n",
        "> $f(x,z,a)$ = $y = 3x + 7z + 9a + 32$\n",
        "\n",
        "\n",
        "\n",
        "### Difference between mathematical functions & programming language functions\n",
        "\n",
        "> In $y = 3x + 7z + 5$,  \n",
        "\n",
        ">> 3 is called a **coefficient** or **weight** of $x$\n",
        "\n",
        ">> 7 is called a **coefficient** or **weight** of $z$\n",
        "\n",
        ">> 5 is called **bias**\n",
        "\n",
        "> Collectively 3, 7, and 5 are called **parameters**   <----- note this is different from programming languages where **inputs** of a function are also called **parameters**\n",
        "\n",
        "\n",
        "### Now, let's try to write the equation in a general form\n",
        "\n",
        "\n",
        "> $y$ = $w_1x + w_2z + b$ \n",
        "\n",
        ">> or better \n",
        "\n",
        "> $y$ = $w_1x_1 + w_2x_2 + b$ \n",
        "\n",
        ">> where\n",
        "\n",
        "\n",
        ">$x_1$, $x_2$ are called **dependent variables** or **features**.\n",
        "\n",
        ">> # ** YES ONE MORE NAME FOR THE SAME THING :( **\n",
        "\n",
        ">> ![alt text](https://media.giphy.com/media/vh9isNb4S2Spa/giphy.gif)\n",
        "\n",
        "\n",
        "### Composing functions in mathematics and functional programming\n",
        "\n",
        "> Given two functions -\n",
        "\n",
        "> $f(x) = 3x + 5$\n",
        "\n",
        "> $g(x) = 7x^2 + 4$\n",
        "\n",
        "\n",
        "> you can compose them as :  $y = f(g(x))$\n",
        "\n",
        "\n",
        "**Note - Using above style of functional composition when doing regular programming will provide you enormous benefits over procedural and object oriented programming !!**\n"
      ]
    },
    {
      "metadata": {
        "id": "ELyU3zJxtu-p",
        "colab_type": "text"
      },
      "cell_type": "markdown",
      "source": [
        "## Differential Calculus\n",
        "\n",
        "Mathematics of computing the change in the **output** ($y$ or $f(x)$) for a very tiny change in the **input** (dependent variable(s))\n",
        "\n",
        "![alt text](https://upload.wikimedia.org/wikipedia/commons/thumb/d/d2/Tangent-calculus.svg/300px-Tangent-calculus.svg.png)\n",
        "\n",
        "\n",
        "$f'(x)$ = $\\frac{dy}{dx}$\n",
        "\n",
        "\n",
        "\n",
        "\n",
        "\n",
        "\n",
        "\n",
        "\n",
        "\n",
        "\n",
        "\n"
      ]
    },
    {
      "metadata": {
        "id": "XtSDrS_4uQcX",
        "colab_type": "code",
        "colab": {
          "base_uri": "https://localhost:8080/",
          "height": 336
        },
        "outputId": "2574a031-1e7f-43b7-a1b7-d3e6dd86de6d"
      },
      "cell_type": "code",
      "source": [
        "HTML('<iframe width=\"560\" height=\"315\" src=\"https://www.youtube.com/embed/WUvTyaaNkzM\" frameborder=\"0\" allow=\"accelerometer; autoplay; encrypted-media; gyroscope; picture-in-picture\" allowfullscreen></iframe>')"
      ],
      "execution_count": 37,
      "outputs": [
        {
          "output_type": "execute_result",
          "data": {
            "text/html": [
              "<iframe width=\"560\" height=\"315\" src=\"https://www.youtube.com/embed/WUvTyaaNkzM\" frameborder=\"0\" allow=\"accelerometer; autoplay; encrypted-media; gyroscope; picture-in-picture\" allowfullscreen></iframe>"
            ],
            "text/plain": [
              "<IPython.core.display.HTML object>"
            ]
          },
          "metadata": {
            "tags": []
          },
          "execution_count": 37
        }
      ]
    },
    {
      "metadata": {
        "id": "kIwNxeOczdWe",
        "colab_type": "text"
      },
      "cell_type": "markdown",
      "source": [
        "#Fitting the curve"
      ]
    },
    {
      "metadata": {
        "id": "e165su8MbXks",
        "colab_type": "text"
      },
      "cell_type": "markdown",
      "source": [
        "![alt text](https://upload.wikimedia.org/wikipedia/commons/thumb/7/7f/Curve_fitting.svg/300px-Curve_fitting.svg.png)"
      ]
    },
    {
      "metadata": {
        "id": "QKfF6Fs__PHC",
        "colab_type": "text"
      },
      "cell_type": "markdown",
      "source": [
        "### Generate synthetic data that has some linear relationship"
      ]
    },
    {
      "metadata": {
        "id": "bzq8zaPDzfY3",
        "colab_type": "code",
        "outputId": "3e8e6e2e-5039-4868-f49c-d39684e034dc",
        "colab": {
          "base_uri": "https://localhost:8080/",
          "height": 198
        }
      },
      "cell_type": "code",
      "source": [
        "# let's generate some random points which based on a linear (polynomial of degree 1)\n",
        "def generate_synthetic_data(num_samples):\n",
        "  X = np.array(range(num_samples))\n",
        "  random_noise = np.random.uniform(-10,90,size=num_samples)\n",
        "  \n",
        "  # this is our linear equation\n",
        "  # coefficient or weight is 3.65\n",
        "  # bias is random (but uniform)\n",
        "  y = 3.65*X + random_noise     # <------- PAY ATTENTION TO THIS !!\n",
        "  \n",
        "  return X,y\n",
        "\n",
        "\n",
        "# generate\n",
        "X, y = generate_synthetic_data(30)\n",
        "\n",
        "# let's have a look at the generated data\n",
        "data = np.vstack([X, y]).T\n",
        "df = pd.DataFrame(data, columns=['X', 'y'])\n",
        "df.head(n=5)"
      ],
      "execution_count": 38,
      "outputs": [
        {
          "output_type": "execute_result",
          "data": {
            "text/html": [
              "<div>\n",
              "<style scoped>\n",
              "    .dataframe tbody tr th:only-of-type {\n",
              "        vertical-align: middle;\n",
              "    }\n",
              "\n",
              "    .dataframe tbody tr th {\n",
              "        vertical-align: top;\n",
              "    }\n",
              "\n",
              "    .dataframe thead th {\n",
              "        text-align: right;\n",
              "    }\n",
              "</style>\n",
              "<table border=\"1\" class=\"dataframe\">\n",
              "  <thead>\n",
              "    <tr style=\"text-align: right;\">\n",
              "      <th></th>\n",
              "      <th>X</th>\n",
              "      <th>y</th>\n",
              "    </tr>\n",
              "  </thead>\n",
              "  <tbody>\n",
              "    <tr>\n",
              "      <th>0</th>\n",
              "      <td>0.0</td>\n",
              "      <td>49.200541</td>\n",
              "    </tr>\n",
              "    <tr>\n",
              "      <th>1</th>\n",
              "      <td>1.0</td>\n",
              "      <td>65.343597</td>\n",
              "    </tr>\n",
              "    <tr>\n",
              "      <th>2</th>\n",
              "      <td>2.0</td>\n",
              "      <td>46.090583</td>\n",
              "    </tr>\n",
              "    <tr>\n",
              "      <th>3</th>\n",
              "      <td>3.0</td>\n",
              "      <td>57.429581</td>\n",
              "    </tr>\n",
              "    <tr>\n",
              "      <th>4</th>\n",
              "      <td>4.0</td>\n",
              "      <td>26.301081</td>\n",
              "    </tr>\n",
              "  </tbody>\n",
              "</table>\n",
              "</div>"
            ],
            "text/plain": [
              "     X          y\n",
              "0  0.0  49.200541\n",
              "1  1.0  65.343597\n",
              "2  2.0  46.090583\n",
              "3  3.0  57.429581\n",
              "4  4.0  26.301081"
            ]
          },
          "metadata": {
            "tags": []
          },
          "execution_count": 38
        }
      ]
    },
    {
      "metadata": {
        "id": "WGUoXb0Q1jFu",
        "colab_type": "code",
        "outputId": "54ae8942-3f8f-4b0e-fdd2-aa1e11cd8c2d",
        "colab": {
          "base_uri": "https://localhost:8080/",
          "height": 295
        }
      },
      "cell_type": "code",
      "source": [
        "# visualize the generated data\n",
        "plt.title(\"Generated data\")\n",
        "plt.scatter(x=df[\"X\"], y=df[\"y\"])\n",
        "plt.xlabel('X')\n",
        "plt.ylabel('y')\n",
        "plt.show()"
      ],
      "execution_count": 39,
      "outputs": [
        {
          "output_type": "display_data",
          "data": {
            "image/png": "[encoded data removed]",
            "text/plain": [
              "<matplotlib.figure.Figure at 0x7f69a50d76d8>"
            ]
          },
          "metadata": {
            "tags": []
          }
        }
      ]
    },
    {
      "metadata": {
        "id": "zCWy8yAb_VjM",
        "colab_type": "text"
      },
      "cell_type": "markdown",
      "source": [
        "### Which polynomial will describe our dataset the best ? \n",
        "\n",
        "\n",
        ">>  ![alt text](https://media.giphy.com/media/2wWBMyd02oMVJqTPZW/giphy.gif)\n",
        "\n",
        "\n",
        "\n"
      ]
    },
    {
      "metadata": {
        "id": "fCDmJtgi_mW_",
        "colab_type": "text"
      },
      "cell_type": "markdown",
      "source": [
        "#### Guess the parameters !!  ..... SERIOUSLY "
      ]
    },
    {
      "metadata": {
        "id": "9uJ3ciUO2uGW",
        "colab_type": "code",
        "outputId": "076afe80-cf1f-4be9-af23-fa7618c213bb",
        "colab": {
          "base_uri": "https://localhost:8080/",
          "height": 280
        }
      },
      "cell_type": "code",
      "source": [
        "# Let's guess W1 and b and plot the resulting line\n",
        "\n",
        "w1 = 0.87\n",
        "b  = 0.98\n",
        "\n",
        "y_pred = w1*X + b\n",
        "\n",
        "\n",
        "plt.title(\"Generated data\")\n",
        "plt.scatter(x=df[\"X\"], y=df[\"y\"])\n",
        "plt.plot(X, y_pred)\n",
        "\n",
        "plt.show()\n"
      ],
      "execution_count": 40,
      "outputs": [
        {
          "output_type": "display_data",
          "data": {
            "image/png": "[encoded data removed]",
            "text/plain": [
              "<matplotlib.figure.Figure at 0x7f69a50fa1d0>"
            ]
          },
          "metadata": {
            "tags": []
          }
        }
      ]
    },
    {
      "metadata": {
        "id": "fwdfbomn_uE4",
        "colab_type": "text"
      },
      "cell_type": "markdown",
      "source": [
        "#### Find the residual or how far away the curve is from the actual points"
      ]
    },
    {
      "metadata": {
        "id": "5oxRINbV6SWg",
        "colab_type": "code",
        "outputId": "287d8a06-e2bc-41fa-d89b-9fd9cd7c3e1e",
        "colab": {
          "base_uri": "https://localhost:8080/",
          "height": 268
        }
      },
      "cell_type": "code",
      "source": [
        "fig, ax = plt.subplots()\n",
        "ax.scatter(X, y)\n",
        "ax.plot(X, y_pred)\n",
        "\n",
        "# find the difference between\n",
        "# predicted and actual value\n",
        "dy = y_pred - y    # <---- residual (or loss !)\n",
        "\n",
        "ax.vlines(X,y,y+dy, linestyles='dashed')\n",
        "\n",
        "plt.show()"
      ],
      "execution_count": 41,
      "outputs": [
        {
          "output_type": "display_data",
          "data": {
            "image/png": "[encoded data removed]",
            "text/plain": [
              "<matplotlib.figure.Figure at 0x7f69a51332b0>"
            ]
          },
          "metadata": {
            "tags": []
          }
        }
      ]
    },
    {
      "metadata": {
        "id": "7X72ld4h95U3",
        "colab_type": "text"
      },
      "cell_type": "markdown",
      "source": [
        "### Compute the cost of the prediction (or should I say @@ GUESS @@)"
      ]
    },
    {
      "metadata": {
        "id": "FFk1YyxP99FC",
        "colab_type": "code",
        "outputId": "0f933831-efec-4fdb-8f51-f18a05425aa8",
        "colab": {
          "base_uri": "https://localhost:8080/",
          "height": 121
        }
      },
      "cell_type": "code",
      "source": [
        "# See the loss per sample \n",
        "loss = (y - y_pred)\n",
        "print(loss)"
      ],
      "execution_count": 42,
      "outputs": [
        {
          "output_type": "stream",
          "text": [
            "[ 48.22054148  63.49359724  43.37058307  53.83958114  21.84108079\n",
            "  26.76358406  93.87977474  69.11777006  37.2469818   79.09426158\n",
            " 106.3281041   56.36824966  63.33944809  71.86573117  77.51444176\n",
            "  35.69986794  66.55968471  49.83932006  80.20108694 121.51290863\n",
            " 127.89389892 132.24540837 124.62084486  74.67325468 129.18567768\n",
            " 126.89354287  89.10378779  65.54725037  99.80582997 141.19600989]\n"
          ],
          "name": "stdout"
        }
      ]
    },
    {
      "metadata": {
        "id": "p06nzl4lXWAH",
        "colab_type": "text"
      },
      "cell_type": "markdown",
      "source": [
        "#### Mean Squared Error\n",
        "\n",
        "> $loss$ = $(y - y__pred)$\n",
        "\n",
        "Above way of computing the loss does not take care of the negative and does not bring up to scale and hence \n",
        "we take the square of it to remove the **negativity**.\n",
        "\n",
        "We also intend to take the average (mean) of the loss across all the samples and hence **Mean Squared Error** (or **MSE** for short !)\n",
        "\n"
      ]
    },
    {
      "metadata": {
        "id": "5Y_r_Nb2XPIA",
        "colab_type": "code",
        "outputId": "8463dcc9-7117-45c4-b565-a0d8c5c0e8d9",
        "colab": {
          "base_uri": "https://localhost:8080/",
          "height": 35
        }
      },
      "cell_type": "code",
      "source": [
        "# Mean squared error\n",
        "mse = (np.square(y - y_pred)).mean(axis=0)\n",
        "print(f\"Mean squared error for all samples {mse}\")"
      ],
      "execution_count": 43,
      "outputs": [
        {
          "output_type": "stream",
          "text": [
            "Mean squared error for all samples 7416.481399091727\n"
          ],
          "name": "stdout"
        }
      ]
    },
    {
      "metadata": {
        "id": "bxS1rsReh9lt",
        "colab_type": "text"
      },
      "cell_type": "markdown",
      "source": [
        "---\n",
        "\n",
        "Let's write our loss i.e.\n",
        "\n",
        "```python\n",
        "mse = (np.square(y - y_pred)).mean(axis=0)\n",
        "```\n",
        "\n",
        "as a mathematical function\n",
        "\n",
        "> $f(w_1, b)$ = $\\frac{1}{N}\\sum_{i=1}^{N} (y - (w_1x + b))^2$\n",
        "\n",
        "\n",
        "Essentially, we now have a function (called loss function) that depends on ($w_1$ and $b$) and is of **quadratic in nature (i.e. is of degree 2)**\n"
      ]
    },
    {
      "metadata": {
        "id": "y3z9kruV-v6m",
        "colab_type": "text"
      },
      "cell_type": "markdown",
      "source": [
        "### Goal is to reduce/minimise the MSE !!\n",
        "\n",
        "Since it is clear that the our loss function i.e. $f(w_1,b)$ depends on $w_1$ and $b$, so if we could adjust their values in such a way that value of $f(w_1,b)$ approaches **ZERO** !!\n",
        "\n",
        ">> **BUT THIS BRINGS UP FOLLOWING QUESTIONS**\n",
        "\n",
        "\n",
        "*Should we add to w1 and b ? or remove ? *\n",
        "\n",
        ">> <img width=80 height=80 src=\"https://media.giphy.com/media/hTD23t0ABhv3SYCAGk/giphy.gif\">\n",
        "\n",
        "*And what should we add and/or remove to $w_1$ and $b$ ? *\n",
        "\n",
        ">> <img width=80 height=80 src=\"https://media.giphy.com/media/4N1H43j8owKK24V2j6/giphy.gif\">"
      ]
    },
    {
      "metadata": {
        "id": "ypPwOzQ0rvRa",
        "colab_type": "text"
      },
      "cell_type": "markdown",
      "source": [
        "### Gradient descent\n"
      ]
    },
    {
      "metadata": {
        "id": "f9O4rq9HQcVS",
        "colab_type": "text"
      },
      "cell_type": "markdown",
      "source": [
        "![alt text](https://developers.google.com/machine-learning/crash-course/images/convex.svg)"
      ]
    },
    {
      "metadata": {
        "id": "fnMmfBjBQzHl",
        "colab_type": "text"
      },
      "cell_type": "markdown",
      "source": [
        "![alt text](https://i.ytimg.com/vi/b4Vyma9wPHo/maxresdefault.jpg)"
      ]
    },
    {
      "metadata": {
        "id": "YGfFoM8Vr14z",
        "colab_type": "code",
        "colab": {}
      },
      "cell_type": "code",
      "source": [
        "class GradientDescentExample(object):\n",
        "  def __init__(self):\n",
        "    \n",
        "    # create a range of weights\n",
        "    w_min = -30\n",
        "    w_max = 30\n",
        "   \n",
        "    self.w = np.linspace(w_min, w_max, 200)\n",
        "    \n",
        "    self.y = GradientDescentExample.f(self.w)\n",
        "    \n",
        "    self.learning_rate = .05  # Learning rate\n",
        "    \n",
        "    \n",
        "    self.w_est = -25   # Starting point (the GUESS !!)\n",
        "    self.y_est = GradientDescentExample.f(self.w_est)  \n",
        "    \n",
        "    \n",
        "    # code to setup our graph etc\n",
        "    self.fig, ax = plt.subplots()    \n",
        "    ax.set_xlim([w_min, w_max])\n",
        "    ax.set_ylim([-5, 1500])    \n",
        "    ax.set_xlabel(\"w\")\n",
        "    ax.set_ylabel(\"f(w)\")\n",
        "    \n",
        "    plt.title(\"Gradient Descent\")\n",
        "    self.line, = ax.plot([], [])\n",
        "    self.scat = ax.scatter([], [], c=\"red\")\n",
        "    self.text = ax.text(-25,1300,\"\")\n",
        "  \n",
        "  @staticmethod\n",
        "  def f(w):\n",
        "    # loss function to minize\n",
        "    # This loss function depends on quadratic w\n",
        "    return w**2 + 5 * w + 24\n",
        "  \n",
        "  @staticmethod\n",
        "  def fd(w):\n",
        "    # Derivative of the function\n",
        "    return 2*w + 5  \n",
        "  \n",
        "  # @staticmethod\n",
        "  def animate_fn(self, i):    \n",
        "\n",
        "    # Gradient descent\n",
        "    self.w_est = self.w_est - GradientDescentExample.fd(self.w_est) * self.learning_rate\n",
        "    self.y_est = GradientDescentExample.f(self.w_est)\n",
        "\n",
        "    # Update the plot\n",
        "    self.scat.set_offsets([[self.w_est,self.y_est]])\n",
        "    self.text.set_text(\"Value : %.2f\" % self.y_est)\n",
        "    self.line.set_data(self.w, self.y)\n",
        "    return self.line, self.scat, self.text\n",
        "  \n",
        "  def run(self):\n",
        "    anim = animation.FuncAnimation(self.fig, self.animate_fn, 500, interval=1000, blit=True)\n",
        "    return HTML(anim.to_html5_video())   \n",
        "    \n"
      ],
      "execution_count": 0,
      "outputs": []
    },
    {
      "metadata": {
        "id": "ASyIcxhruoRe",
        "colab_type": "code",
        "outputId": "6f833063-a018-4859-b9bf-8896a4ec4de7",
        "colab": {
          "base_uri": "https://localhost:8080/",
          "height": 586
        }
      },
      "cell_type": "code",
      "source": [
        "gd_example = GradientDescentExample()\n",
        "gd_example.run()"
      ],
      "execution_count": 12,
      "outputs": [
        {
          "output_type": "execute_result",
          "data": {
            "text/html": [
              "<video width=\"432\" height=\"288\" controls autoplay loop>\n",
              "  <source type=\"video/mp4\" src=\"data:video/mp4;base64,AAAAHGZ0eXBNNFYgAAACAGlzb21pc28yYXZjMQAAAAhmcmVlAACdKG1kYXQAAAKtBgX//6ncRem9\n",
              "5tlIt5Ys2CDZI+7veDI2NCAtIGNvcmUgMTUyIHIyODU0IGU5YTU5MDMgLSBILjI2NC9NUEVHLTQg\n",
              "QVZDIGNvZGVjIC0gQ29weWxlZnQgMjAwMy0yMDE3IC0gaHR0cDovL3d3dy52aWRlb2xhbi5vcmcv\n",
              "eDI2NC5odG1sIC0gb3B0aW9uczogY2FiYWM9MSByZWY9MyBkZWJsb2NrPTE6MDowIGFuYWx5c2U9\n",
              "MHgzOjB4MTEzIG1lPWhleCBzdWJtZT03IHBzeT0xIHBzeV9yZD0xLjAwOjAuMDAgbWl4ZWRfcmVm\n",
              "PTEgbWVfcmFuZ2U9MTYgY2hyb21hX21lPTEgdHJlbGxpcz0xIDh4OGRjdD0xIGNxbT0wIGRlYWR6\n",
              "b25lPTIxLDExIGZhc3RfcHNraXA9MSBjaHJvbWFfcXBfb2Zmc2V0PS0yIHRocmVhZHM9MyBsb29r\n",
              "YWhlYWRfdGhyZWFkcz0xIHNsaWNlZF90aHJlYWRzPTAgbnI9MCBkZWNpbWF0ZT0xIGludGVybGFj\n",
              "ZWQ9MCBibHVyYXlfY29tcGF0PTAgY29uc3RyYWluZWRfaW50cmE9MCBiZnJhbWVzPTMgYl9weXJh\n",
              "bWlkPTIgYl9hZGFwdD0xIGJfYmlhcz0wIGRpcmVjdD0xIHdlaWdodGI9MSBvcGVuX2dvcD0wIHdl\n",
              "aWdodHA9MiBrZXlpbnQ9MjUwIGtleWludF9taW49MSBzY2VuZWN1dD00MCBpbnRyYV9yZWZyZXNo\n",
              "PTAgcmNfbG9va2FoZWFkPTQwIHJjPWNyZiBtYnRyZWU9MSBjcmY9MjMuMCBxY29tcD0wLjYwIHFw\n",
              "bWluPTAgcXBtYXg9NjkgcXBzdGVwPTQgaXBfcmF0aW89MS40MCBhcT0xOjEuMDAAgAAAJ7RliIQA\n",
              "F//+99S3zLLtU2+2C6j3op4mX0N1JQGblsTtOoAAAAMABnddzdfZ7UKmP+SfyuBRjRuF3sgUmtxy\n",
              "YN1oW6uN77FHD1NHsfSplcqc7XW17EnGT9q0xhQSpAQovWbLUBYxLQ07UaZUdqUYBw5tnzwHR5c1\n",
              "QCa///ron5scQjJW2+eQrHjDstZUh5q8WAZnxcQl+wl1IJB3lzYhqiNuQrNgDfsz7NJSWi47B0Xr\n",
              "3iKxGVddg0kn4l6FfDH6rHqiFl6cHiI8667YoBufvyFrpfElo1m2td5yGGcOY76bgJw7CrWBXdsB\n",
              "8YiUOozP9ZKclKSvIOy3U27XveyKmH/zeF5F0uoG6NPKuM/RiqIIY4FvyzuUeB6sp2GWQmP+vooc\n",
              "7n78H00JVLwdSltrmt9ts+4OSd32U9eC+GLwGVUbOxMnWhfbvFCq35zx62Gs4tY8t0jE7E1XaPek\n",
              "zqjipn8VZlK1yL6VEaq82VrSh2p8am4pwIBCZrtR/p/fxn+gOAuOQkgG+Lu6u1NBZ42XiI3TL0oT\n",
              "YT9F1sXMgKe0Rjfg+/SRbikBZmp56Z0da3ikeY4nUDaWswdEOEwTfA4FC/hDyVi4H/J83+UGS6lH\n",
              "0A8Y2vwroFwAAuL9/nDfSy4ExxMadHTa8lik7cVuRGTg8b9ZdPkEhfluR6k9/fObzpx+YItvjnrr\n",
              "Cz/oR+EDmi//14yXVXS378b1OALkdC6znijIdWW7fCDLcpA5uARPfmDBye53d0vf4nU93XyQfq6T\n",
              "up3KTOd88x0meStc98pQyzn0HNgsa0f55JSm6jv2rHumzMzRAWrdFWvjDqh5NT+iK3uZ0rhtnJau\n",
              "1xxRVtJdoGr5RrwcZ958MTFkM6JAr3Fb41uWwV99IxaO/SjwiUhJmxj/Ebwi/j7jQCGbWz1Hsb/S\n",
              "548v8sLs+perDoJ7X9IE9UsIJYseTzNJJql7+C0497mrsq30iB/T7IO/+Zj2ysJEPPdf2xXazDnV\n",
              "K63x9BrNVC6KHEFbEzSdcLxnxP+yrcjMdhOywFwaqPm8EJwWSZCKCjuXKE18Uk0+jOBf54gKDtL6\n",
              "YSwgjzAg5hiQuPd61zogQJMQPlc+d9XczQ+XH4ixmNMSjXqI544J1OmPhHeVjHlerrQFBH1rJdOK\n",
              "QEU6KKtTyHAa+Mo8Lxjxsz/+7B17FDCQYTKEYub0sqUWXbeiuUit2v3OjNz29gWx/mSJIo63oxEG\n",
              "ry/cCyogq2s7Y3VdYDP/C5MLIgYLg6wq2biUffXlp3X13oG3jCf8qrBQqz0UO6wA+VC7n8blB8yS\n",
              "FRJ+MAi6zhglN61/xhIVg/SMAmqN0bEcAQVO4dXmRdTl/HQyH1b7B8pbcvr+NwJvyc47dZ6lcbY7\n",
              "RuhoXSfihlVWBuKLMFuAsWgGsNo1ChaAaJ2bfVM9zT84C+XafU0bnv/FSPan5o73ERHKkBvLl8Vy\n",
              "o9kJbsncuIuOxTjNUqq75STXiY+J/kwjlSDTiwuX1TgtKSVWrVnJSB8ee0t8I1leb5/KY5v02sdp\n",
              "RXjwG/jNoma1gmlteH/tIGXjlp1Zvm3/un4hg5kz1lkRHErCjZ3s4XEoptTibeE3dduj/RGsyhp8\n",
              "dmio3pgx9RftP2tZDx74D1d70abAQgrOzokljfapWJDf7sijLmv4rOA1DyznEU5BGfDKZzSDk4hS\n",
              "dwmU17ZFc16CxXEDwDquC8ndi6tmbbhKDBwTYpUYzBR1Gcd+36vaEoWKru1H+Vq9S6f7a9ZJuLX7\n",
              "1vJ2H36I0mavZ/0i4i2eRKh4r3kDZDs4S6krsl5R6u/+ExKF0JremNvYLFf1VBEcqjlo8q8Jq5DG\n",
              "S1A4Pnt8Wwiw8fLpHY5PJlrhLbFZrTn9A2m6B74D1UPj4kTZPO+QNATMhWRAcX6jIyQIORqbmfNv\n",
              "HtT+LzWfL/KGpaorSP8K5NBlHAoeGboiTa65G23zORTGc3XlAytsvtaJlR/xxr13n8AvAIhWMejv\n",
              "5eNFkDlmcxc6vvBGNQ1ziQb4xBkYSsCqcrs3OwRjMlUtENc9bzYMdQ9oHS5uHiP7c9jsk8Upo+lK\n",
              "DYMvkzOopXXeZcAVP5EoAAD1bw3lkVFnOoUarOhzKE54qO6GNDfoOzr5K7JWoES91UB5n1rWlIGs\n",
              "BQx6arFj1tBZqHWIS7YM3sT6N7hSrcK2+i/JNhJvdYrUxyf2iwcY3S0v77a0ZuUTFlldg34ifkSM\n",
              "7Yb3qwK8QBtQu2cjlziS5UeRphoZySLloWLpfVLX26ovjLxpatEcCFXnmlo12dg3S9abeIQuqZoE\n",
              "MeKtX2d/U4XgHZZdQJEfwYKC1bjoBpWrk/wjlvq2H8aSnWe7vomNJZ31aR9YD3geqaqb1wQk6rEb\n",
              "BdeEnbQYhkNWw+giXc4nbSwQdKT2QIQyqYb2JPeOOeqJ1pz5CFqzk0cm6gFFbzW+4BK3+DxceFEP\n",
              "deLKt+f1fFUMotnDcT6JtBquNlkgstGQwnly2+PqSm9ctasUISm1yBLyPBkzxJRNLsCf41c4UoO0\n",
              "VZ3fEET3Ec5IhDcpAtPsNe4EZb+KrqcfJewpFXkSg4xrhdNmtx1ijbv0znJzYpm5FbpDtheXs7Wx\n",
              "6ClX9bPJOyKOV67aGynqUK+IEmzcfFnbGkoq4A8IUQ8WaUPgFim8I0BzSyILn4+0TL2QhQk1NyiD\n",
              "qTJB/5LdSNQLDMOXoncZdqK8nts/TpceI6TCNmsLklycJPvLWa3V5Ad9WxeaTquxBfY6Jr4a9uO8\n",
              "WyeI3CELhFSrLJznPN+hTGQVohsz6SUBM0oIjUxCvDWgpIQ6A71mENXn73fWS3u2SlfZSfXmtP+e\n",
              "vtK8yhGT1/46d/I+YlyX0JOSmVmJFbkZ/Ga5VwNqqzZrhUkwNdQa3wYieua1hk2Q0/NJOfiuqhwf\n",
              "jRBc51rY5WNM1IFl7Fo+Kar7SOLnFG+A1zrP2oVgw0FEIppBLMZcZdIYBeZZEPQAuYiftNuuNT2E\n",
              "zGETjKOjpwA8owccgIy8Qa264K6mx4xKSL2jMqPBVqYl6oF7zB2ZDSvIvMhXc9IywL9jxCg8gkLC\n",
              "Ff1F4qFBIFLfOzMcWV5+p4CoIVZxbZnMM3ILLhnX2WPii+qer2q8v/2wRYkc1/zVrC+JuB+fk354\n",
              "qb/vJ6Pd3yFBaYeZzHY0kM3zl3ERDJXu4N5gbyfEloQk4X4NoPiSVvUcm+BC3sQ64iykHwP8AjUf\n",
              "b4WU3XP/ytetAQxtgxV/+XcJBYEGloHXhfscZQOvsMAwXhE4pp15O7PrX5FlfPP947nyn+3Zn43A\n",
              "/ltpZTk3UApWwtw3eRRA+6ad7HUpcAVM/GmjrYqYbq43bi21E9i2DxC4a4kFbSmNcSidfNH0BEU4\n",
              "jyr5kZ2cQr9A3O6F28CjWYDBq1YIGsXBOj2VlX4EJIIyJJQ/eHQ1hn2uAyG1MZgpXm2QakImzdPz\n",
              "i4S6NUskmJNNzvyHxKzE4sj/2GgyINyjzqdAyKpfkHZybTiz/quAGEeZLFP+wH1Arewv3wqirQ1Q\n",
              "YvgASDVChM7CpyOSPhBgLiPaFlA+FrETwg5MgU+RBSH0DuWYhj1lW7rxhAcONxAI9MaNnFgu/G44\n",
              "PRYArxkP9DTp1AkR+ZqItnmgest+s2Nbw3O29KVf4KukgOy06qZnoA+T4wKml2af0U2nKklfxQNm\n",
              "fgSnHxEICtDjpZQvGn2CWEtGo7gOmewsUAtTnman6ElcrAaSpWFYhb9Jfuhc3tmejiQjH9CAqx0t\n",
              "CNyjJ4ylZi7eM2ALxT5hCwZWt//ZaMDB8GaLMMp2/1UHjYkMMjduAYfiPJM56SkX9utzlEaAtyHo\n",
              "jvQd2ylek3U06B598lYxTMC2W3hrzWiVTmqYRjLyL64c4k/Tw7RgbS7cjWTYVUyNaAKUyMWFqDym\n",
              "iBJ5wbUCmeUFonpgT6cOkoBqX242JHAJzuvIG8AZRKbujjHoiJ62rW2KPy1na46oRzfsCqI1aez7\n",
              "EWpxjIXQm2lRTrKJftSaBZGkq9K4yQEiQuVfmSi1bry/G3ztR2IXW2f4pkodpzJ+7b7LFLZDD/f/\n",
              "HeCdwRWxDmxbrcW4OGSUxAYDp3h+LmO9Iy3ilDi1xVYTxN2JX5QAFMJ6se+zGb/RBnGaRGyQ6pgW\n",
              "7DfKdsxYJ370OwuiVIsw5eKEiI80PFzdCAUJm0z7VAYRwk0pH6iXdon34SkRHmh4wrXdYTkfSKyw\n",
              "gb+aZ5ZyqHqCV4er9JMSB4uJ/lKHJnMuRc39hrlW/uohSN+M7NymmB9eyKk9yw8YSNReBRzqccpa\n",
              "z5F0hv/d9wXhKWRWEt9QB/TsjTc324TORmC5p540JbPVef6JJrQdRxdoMdupt4j/HQ0H4UMCo8ED\n",
              "UzvDXSfkiWMdFOIygMhX9RVNNVptXV03tyd995V6eTcaCyKar2r3G/Bk+nRNhlO1464JcxzQb8QN\n",
              "Gr9J0BakRO1/y4d3yBYHDxlbBXj6ZYKtHO6TP+JOEI7vxVbbKfvtMRptbCwrq0zBe3F8JLFPmUF4\n",
              "UHrdy8J5tKtAd+2VhkpPQVjzml07rbHywzWsZBu/v4cEaikHW5RN0eHT+BXGfYulVCgxNFejqijw\n",
              "a06Re0bTaBEZNeNGALxec37gE3E2Lk0ysaEMnV436dtPYiikhEGslH0Ovl7j/BfJEpfZhKwfTtQ6\n",
              "xHcZ/2zMGIAPM3AE9mu+5GTbPot4PLvrsykBXW4PpswrRgee3Bv+Bc1+CHXVxPgd4Hc1gY46t5GP\n",
              "AUSq0DUDEz0vngXUgNY5Liy/feHgbYoExYKPxwwJQOO3vKZhEdqm48EWgzmNKvxI3mv3rZYoJK3p\n",
              "GagHc1LyfTSQa/5Xc5n3KVWbGWVprfYAyC8LRmHqS5oIxfZU4kq+85KOQFBRjLX4Ekgrqa+q/o7L\n",
              "lHhp5WPTjLGs4uOts8NjggmpVe7lTxicjlRF2Y1vinx9VD7tmSTagY4w8k5Ppv0S4cJU0LJe0lNk\n",
              "oxluGZ/2v/icXUHm0GYaHvXOKHDw7m8a5tsQ9zcVdkxWAbqx6B363C8j2dFs/65mDqo8wYcSBYJn\n",
              "qe9tMVVvfmfLXx/OS6F8emjZ63O3o44wtfQ+TCNdTPBKzE53sKk4UoFVisojmCbvLws1ZBDn1TJW\n",
              "7DYMCHrccD//9pf/qW5pZBOX35uSzdFupeYZieF+YqUjFaOVNLcLzhWQfws7k5NHFa+O3MbJmFVg\n",
              "0npzqqH4b7a8KJ1fuSp3ubXY5B03m/Y2dgx1OeWzjclRTBRDrd9QqmZvd5nk/+d5T+kp2yuWJIN8\n",
              "K+owrC40xbZhsHUG6dw6JE1TYVzBl9+P5k1iN6jGihHpKnbS5AZeJ3rl7FLNQJCFFAOo8bzAR6fv\n",
              "uEodSIay0az6zAFwOSfyVzVF72+n8lPgAxz7C10KEfM7icTRI64464SUbrbluiZHWxCSrTic+Nj1\n",
              "XBO/gny0A7DzOvbLEtnrNqobypS0MeWx+vHjmbz7o/0xAF8N1GPsZEJxV9ZPOWgxdMQp28HzRyK6\n",
              "N0XAtC2sqNtoDl0Mwad92Mwxh1FkH4MSlRo7kPxg4Peyn1w/IOwqS9iHq2xNj3tX7hJ1j4G1Hho8\n",
              "kKLNTf/JUG3I31PL61kEWOJrQ4rnEeHLSEacYUQ0zWwDHrnV1KSJ6DHwn/+4GjIp60d4fE4MRjbS\n",
              "nVgPtw3LIPz9qL5RxY6PakS0cq21/QXrPJhd/1+V7i5n5m2pymGdK7WIBTCaPYjBNguEyuqJBgWI\n",
              "xx40r/Wc+ioQyAa4aJUB3yHYi88DvKsacSF9o6CoqGbtKvks14FbcmNCn/gmu2OqZ4yNby4E+Jt9\n",
              "qcNp0loxSRE4mT/dN8fwl0l+EgIMit1+yepZx0/59wStdi3dRrq4c/ljbhb2FWuklQb7xUc2y9Dc\n",
              "Ci/CxyCQPBgJ/csBWqfMkfxn6SP4ErQDEKjsbonOJdSv3Esd4wAQ6oGOyeXTQfU0Qaei1IOb0KZl\n",
              "bvgdgM04nGLxjmz12B0rm8jX5R/M++c6J5qY1pVMPW30gFzPE+YypiUmzYrPnLUytr0megFe1p2Q\n",
              "XJ0gOEeIO4S+za1nuXmTZFS0jlRZKCtzwtEpb/sUjzxavJxBCfUOSKoIg/0lADeP5xJ6d4TchQmR\n",
              "qhXjkJCN9NVz5FN7QE4WoKQbyN1JZ7s3cbV2gK8/GfwkCIFdR44PatuAG3PaCEpxNp2Pb2T0F+c3\n",
              "zmpvN2et3zmg2Oy6jLMVidI9WgaaSBDrlhTacWS2xB2auF0Udhq4aD820YYsE6f7MMQXb0jVV6iM\n",
              "2TKNEEl+GceRwZ0OC4U3aEZdegp66VjaP1bcZSfbATdm/e/xAi3cbnyu5Wf4S+vp8Lbt6qxWDIE/\n",
              "OT1rLGQxrU+LAAKjLTgwjqhrjtCt/NZRKlAsfzfmljCOaRXSNqcu1rucSx4PoEc/LQN1sAjyWKEy\n",
              "8kjRrHWjsNjGH24dTatPHU2tluWnXiQFMde3qkyX8HRVBM/Ib7ug5ElSsa6fn5Osp7d3zz2PkjDB\n",
              "2QOzBWGHzuXAbaOgqN1fYo9XKKl14wm/Pw9jI6kcckeZxvifWDwWe/K3GEf8Hi+P7kwse3K2FbY7\n",
              "CRmsGILvq0JCmI2l4RfA6gyJLAvHKTiGLo16Uwn1mCyatuYbnCpLQkNWnhCerVb3mnCrL+LKm0/p\n",
              "CajzosL5TAAGNz/j7wlUCuN9z0gc6qjEN9SPfvWqj9PVaNwcsVZlMgUI4/gYlS2EvbkHayKLye6a\n",
              "7lcJSwqATXiOUhgvvcrCmkJIabkYex7hDQExb8SnHLKyJO0wvUX04XEU4P5nFQRTyN43r07luppy\n",
              "EvjY5PO0yyJGIEi+HH6b+0e78Y6ismxiWuwhzHQx/XqFYJMknrLgHJV5udY+3pD5DDj25VvnhJUz\n",
              "T/V//5JX1S5kMCn4J3/6S5x0rWWm9UCf378s7d7Kd1eoz74IeUqtVBv2Z8voFdY0q27ibByjjd46\n",
              "CPKJkAt0/eR4jRoyNJLI6mtZ+9F+dumXshxApNIEAu1Rw7FOv2st+xwzhixcWR9QG0oQCPgaOpoJ\n",
              "AwUWdzLQtMUTDXWFBMJcEs4AqrzQSBgos7lfX/HqBQRzec3RiGBtnz6+v3RyqHoGvxaT3vi+HqKq\n",
              "zZ0+V4fIpf2sRlwgHv7AooGYZLw+PMcfv5Q6f5pieIvlGn1BCDPWsoWkr9b9xVdaQ5MfqLEceZL7\n",
              "uNd335Z9EN0AGH5Ba8+LL7lob1P0dIdc8X6UsCTE9g1dZjaP/kw1UUWBuu+6PVMeZx6kWNDCD//w\n",
              "8BH6hfgoI5aBG/mKhtCyv1uCtjGYeyqNjeLUxskbNqSNfWqe8J93p+12GwClhynZe3XW3xZcg2M3\n",
              "zwUOviwmY9A/ToxDvicmnozZg+sGhHfTAhZ+zd1Yvx9dFCdE7jTlis2XZbc5JyHK9lKTyNr++Zf4\n",
              "+9iX1vhJXNbATtmchnriP9iFILBTVtP+DqJrGZ8Z5hZDQh8D3coEJeZbkTgN93S1La0IWYExPEqe\n",
              "peFjHnJNjUjUramiDon9HZv78gtBquBPDWRYgltXGsfWgBCrZBTphkCh8iec6aj8BFC9W0QV1ts8\n",
              "zfoRChR0pWxqlj1DV66zopKEdIbahAVGTHwxdComwSHTXvSf4ZItEcFRP3nNf4ume1f6sM99Xicl\n",
              "NyREZ/RwKIarvDh3BMcJwrTJlnIMSStiB2lBU7LaDzWY7d/D8htHB2nzQGBejcswolmjUCaCEg1l\n",
              "4IBf0DHpZ/9jWrujYz2DNnClg+eGR3G2rKB8dFehiLXdQH9k0SLyHdisS0t0kfZh4wG0IPjb7SCv\n",
              "pEIhwSiAXs4BU4hqYKv9Wn/qepjUEHKK3O4Y2BFVoekY0ux6spyMXRdAV5gu22XvHaNd7/EEr2Ez\n",
              "gNyzj8RXhZX+XF+W3lBTmWkX8324/GNEMSuzl+nxdRDUcznhpnYjfcTQQH6UMgxBjLAbJlzG3Vyi\n",
              "F276VF05VAcw9zs3U+nH7JKQ6nwfzQt8xNM8NmaaUmXJS30im5b313gAarsGvfVKgXL7NawdS+K6\n",
              "PWzLKlE2MfvMhfHSkBXGjjAhDqwkLoWOBH6O6OfLO5CZewMUEOBdGp1fu9JrJUn1CH4UpdayPeRd\n",
              "Jd+WUyZHOGUfI+/ElqL1QdhGBBs/pMUEPQx6pG6FisjouXtrFu22uZBo/lk33LqUAcZsApWAdgSZ\n",
              "uoB8WjrhdXmGaoTYbUAzTazZ3is6aFJzImpkNWGZOUjoKhutYipt9W2TgRCiebTt0WWGPZma1hbo\n",
              "KKdrkxXZK00Q4SresWhokk4h4S7UZa+HbtfWcgDFPcvBWMXG6ngugyauDiI7WNSoTSAuAEtwOlrS\n",
              "xEGRpPwJ8oYOIliy/sTGfoh2ydABVxb6ZudyQGgTbo8qpu5Tbe/GQXnL3L5I7WsqnVxASeaZagXR\n",
              "SLE98oCKj1O4XyophNqCcpuKLamm2Bz9FRqNv8Y1T2T7obl1BubFvE9H3IPmyXnUwUO4KDCjv5aV\n",
              "N6zVIfSFzunPwO0YuKzB1UBwKDkq7X42zkLqQcnHa5EHseuG3hQu/eH5gbX3l7chHYC8QJu9lqio\n",
              "XwyUmrEwKjfMa6tH7uSUwm6DTapT1vLnPvG8W0mHBlIqlh7vaYFl+3ESK2WDpV3/rW+Gyk3fqJBN\n",
              "cBEdrPMeniQqjMEPlmAleN/koIx+RCto3lTqyek4zPS1R+QOg/MHsjQfqzBT82YWi8AevMfY3foC\n",
              "bN5HzGV5UHrcYYsfOzTYW5rZ8FKJIDOxqwt/ZzxLf2QxvBqmxP/SfPNT03v5KNmTRFnrUkoYIUR1\n",
              "i4aHOxnzbIgN7pdFgeuSSJLP299I9LN2eHwrf3LWpK2nxy8+ICMMyQG/px509mIEfk3OPFo+wj4R\n",
              "gcBo8Okayziyr3r65OPR+/nqXB08o5rU7Wqu2dp0+BTg7COm8IvFud20e1SZfXQAz1kUXkBaMYfG\n",
              "5ECMPrTkgtBAP1Q8s4+as//fgr+TgwIlgEvVyOFLcsfv5FVB1Fqv50k/LzR24B0pSw4vrTk4rWYv\n",
              "GTq7dE1NcI3bXWhmjGDbt/b2tB5FY+mVfsEzK1/9oiWnD0NUCVW7LkoTKto1E65QNItq21V0ZAxU\n",
              "CxhV263f7ROkG9EEJ+ZkP/nYBOzTqJ4qLR5IQh9qUbDqXka9d+pknzSM82nT+icB8wOJ7BmOCG3F\n",
              "Gw/lSxqP7LRTbUef7sRRSmTO/5h15CUu8z11pR5n+5jIHhaW0Lo7YXobEzRoairqtOjzs1OTsK5R\n",
              "DScdlwOMyLcwA5WFP1czipANgDJXcwYAP2zGUoxvP73+HRo3vi0JU6ECvnTGwQ87oDvJTlG0Gxsh\n",
              "NIy32/9wnDlrPttYTJEBNZ4s1Sf4qDX301F+io5kQ1HTVE3DGsTLW2nbybS74WR9BZ4xNQ4NwtuI\n",
              "yUemW2ByNv02RuBiW14H2WRhG0K9yse0sIW2NFHT5Yl8WO0O4xQpXPeHq0Lfx3WFOzjdQ15c71Vb\n",
              "KfDNZb0gfwnYXYlHpdcCfQ8Y0yXXbg5EvGuGLbP/qUGWLx/59h+BA79rtWpWRiTcXyXSMNQITtxx\n",
              "pHZ0sQ6yCNW57SK3C2Qwk+Zi6ndEJeQt9MT5HFcRYmDzWiHyqyaOmWnnye7xtHX/0H5BoXBAN8fg\n",
              "+61/1LwuC+5Y31oqdE+NycRipXPttLxmoTvR89mve+Tsh5FTrnxVnhNLoPWbhr6orRnQHHiR5SLt\n",
              "9aRsEcUJU6+SPOrJvGo6mOVsBE3kT7KbP+wSCGzYLQi0VD/ivW78qprSn9AvvP0R81CrHiD2BFJc\n",
              "kSZTVyKVCt5Jg5qQmmP6D2nH8LmdqheA06LRVD+IzjRl+sSivPVpGFOT0w2qN9+STj204SoCWa/t\n",
              "jgLc//wijO4oI+Ab/c1FNdVxrnS7hTIJ76TmNT6Dj2vZcdxg2u7rAz0eHw7Dn98pZkmltxqOyT4w\n",
              "H2Wvx6Wo5k+dYW3Ck8Dc9CZ+u/D/ZfXFxmksihyIjRgBjwBrt6R4pzeYQpnnLiOWMRuftSeOh8nA\n",
              "k3Fn5PLPULxlTc1Y3Psh3RKUoMFBYY2505hBxWOdX56PYmfrh2R2SN7SIkTR6dsL3xkd9AwEkcHO\n",
              "SPb/TuNa1EYc0d7+82UM7iEjNBZG/H8K6bbhRnsnE1kc0iGy0w3DmIjTa2f1fJAe4c/FJ+3VDICZ\n",
              "vD3b4Ix8pCxojXGXSMqd9ZH/IneIxUwf7+uWpYdDtJkIoUNfcfXt3fk99KiYRN5QcgtvpxIIKb/5\n",
              "3BGpfgJUUADgAqB+RJ3+17/Jf9e4y1aK76cke2HOkJB4jfjFFiBvs8E1jb+oSMcRcMqOxY7Tq+L1\n",
              "CGfbuw6+K6U5ppVO3I/W+8e8LpCrkVGvmdD9XqfiXs3EoLNQg7MVvzNUFBmVf9JWwAe7UnRMX2zN\n",
              "xExLs2v+2WGddm7hMHErnvxAoO3LmzjFvqW2WidI9o4udzSpE4o8ACQO2DHMYx/S5Sm6lIGTuhKy\n",
              "bn+GIKnOsa5O6llfJuonyXqEo8sLVxkgs4+eKo2SflwkrAP+ITN84eyZN620hy+1EYlYuEaUR5Pu\n",
              "XcRJpr2rG7r8Q6g8HXizs28Ocf5FTimyjzzd3O39HD+eSJzgmNGo9VURaz5qJZFKswHiWFbnGSrX\n",
              "TRG7Dp4ltJ5g4qGcilVhjmK59PjQ3K6D+416LYgtPRLlpFgTJ4RYm+OBIagZnHa1dyDrQ2fGR77G\n",
              "/eSCrB5A7YSgG43/gQ96M0zlMxEu95pYV52mkVUMFV84aOVVYyRpAxhqFvXiuVQo7R1e3XxWVQDb\n",
              "IitlHL0yPT4FqVM7iYON1cxRtUe3WrrqarlXh6cLC3jusSzmzI6OQYtFc2XLPZb0aZN5n2LPNJF1\n",
              "2DGWdY1PAyG8o2siEAvt/e5iLdYZqGTkdLo3YrpzDHePBniqHcWyDlXFP6TmmMFJafO74gJvqN6+\n",
              "rf/sf9V1XvSU5g+IkMXRRQigczrzfyrf69z9ewlmqZpLyLtTF3X+DO696Lvp8bcA9q1lLiApr28X\n",
              "zFHKo4+ZBdE5LcPCZ5bhxHUJKDOrgt53Oc88Q6GexDcdMqjQ00z5z0SVF77rOxpdTQjvlcQ9+aQq\n",
              "mRi5kaeCVQzrLqaE1k85OJHffnRhGfbOahbrx4qN6+P62QnkaSMTeTPSxYTAwDTudC6Fl0jqz6+t\n",
              "EC0Zbn70rtqJQ3Ke/4yk4yxEriOHzssNQ7s5q+OgjqNhecFRMN0XbTSE0rumd/lXGPF6c1O+AaKL\n",
              "OPE7LH1Y+A15MrSqzE7mEMPR3ioZffhGukJrdbdwPYHYyt8u7gGbBS+vZ1hetIA+R8w/Pmcu1cim\n",
              "p+4ZSDVoL4jQu3Wi4iino1/9RU2fMx33jHIILfPgApcGisZiK4EtsiUFfrJmHpdfJVLPBTIfpV6h\n",
              "QLPWcEDRAMG7SNU98M5sCLsO73+jTXUvfUsiOpitVSKxMeKnBRCz5pwfqovEJLo5/+nZUFsNVFqb\n",
              "MmD9eDxVAzhrro1xbxTBpS82yg2LmJTrDvvrqk6FgW2NwoMa1tNGvDdkYF5v1RSt35Y/+EZtWA6f\n",
              "doqInaUhV6zw2FA88lCIoQVid06cCsD/SLpopdF82SLTKP2KPhrclN7M38vwlWC/Kw12vbPKPe8w\n",
              "Qh6Gu4tFoXUz0tSS7Jkcud3o/NaNw4KRFfR0IXw/s0mCIb4T3ihBJzNiJ6eNVmXxKm29QPS//jyX\n",
              "FQdTkEKJuuK8hvfh6YAWNX2+49VC1bI1xMAGSSiBR6zEfrNa93Tib5w6PQNMC9odC+vQQpSwCqG2\n",
              "lIZjo/tGtuYa+jOfqsM5nVIsrT3x6nBbZwaREl4Z8JUfbKf9n1Ovu/i/Q16fx7kLr0lgs4AoMgJp\n",
              "8T+g/mOkb91D75bawRKADkDBe43rSsWN2v3nmt8h6eWGJWuUctG44AFXT2yqvf6zK+Zhg6nwFxV3\n",
              "JcuTsB1WiOPhRBmPI/vAt0gID9U0xTPjMuzQD9wkNOk+5fvx3Ixeqzu/9ZCusOsBRC6TEp13vo1U\n",
              "miqu5x3UENODpYa6Y/EwvrlMnW+U2XCPxmT7AoSjdiVBxTGZxntc4jZcS+/fT4Hl698hCWRTORwr\n",
              "CuFy90TyeSXbWNE2vOgJFDxNdhDPPhKOOLlyJx9jpsccBBiNzPMk+M+idaqjnJOl04/GvWc1EXiL\n",
              "PbZ+oY93kxi0b9J4OeEsOF4QlWyhQy/P/6axf2+zD7heHLKm+T82PMZI79j/bahzAdaSvU4GnlAe\n",
              "VyCEQYnc3y0R7mfMBfRQs2aU4sXRNhedwvhoIEKyf5LrY8VP07ZVJmjg2TnW09WMXVamzpANQb2k\n",
              "enSLAXPIDhWUvT38790DBpXLkno995gxilXmHxXAbLzdUNINmwbZzkLT91h/Lcl57hbnGh1Qn6lt\n",
              "c+b3+FnSP1vNgzNNNGc0iXcFOM8HyV/03TZYnyVUeAWEbJI9FpelUdsxwu3b0CLekjJZXFN4LyZ6\n",
              "oEW2hkN8NQRYpBdtPE2VrRWT1JVB/G3gykOjLnyuP0xYuBI+KQRWB1dLUaeTBgYxtv8p0uz573lE\n",
              "37iC38GUDQn80HcqBIeXIqGd/Fbz0pH4VpA3RgOYO1Udk/Znca/zDHlGAY45H3eXSXAgQm0uxv+d\n",
              "X1WBwnZUEdjXxHk4Qa4yR0chDWA1ALIu2nRlNJYMRC0O/t+vUHH6DHTvJjCa5KCFiy3O+C4smiBO\n",
              "F6jqz61a+Y+GMo3qsiSdOSSZJcVTIAugCKoYErPEnAmlWL0n0o/EK57Z395MrqaBz233gj7Y5PQD\n",
              "vnXwCCGIP3flimGzi+jxANcZOWWePajqYY8j32Ge/QCA36nby1xbXY2PU82rSsTdSUuWg1yEg0QU\n",
              "rdHaybzLWuCikzQCLP+57KKi5iyb1Iu93CXPE5TBp3FB+AMz/lFgZ1dOo2b5JINVh3P5OzRn8xKN\n",
              "YHd+JTRVFMWoYWE2tCuJdqyrT9SJHOtG0bpXntrYOS0E4R5ra6dV0n8vyoGfGEo+h9PMSpRVWqAg\n",
              "gKu01VFr4tmTNvKqytyQi3248MaaSVIX4Wm0vBgh7Jq/mE9bt10Vt6krLsoEqwEPh9PDu3aF+HLY\n",
              "GSoZyJb9d3+/B8mSwRI9C8Pgqk1Ng1csRwh2l2k+VXZPvEe8q4jd0jBIR1s4Z2FtihyPMcecTNmI\n",
              "7rr9kozl3DU8zQxLPfVN1+KvV1hXTWE8HYyCC/bucQpGuNNBpWT2jWXZf4xXY5VI1F3CjUmIYsOS\n",
              "f+UeFB1haDMb3z3fRtu/29HmVvDjI54vhWKQfCAFq0EPQj6ddIsVKR3jIhKX2tF2EZqAA35QMUkY\n",
              "dDC56EbItp1uhxPY5VXlgI6w5siPRQ9wKma3k9Ma80JTLDbxdalQ1S7ovayzFCQN75uvvZqj/kRW\n",
              "pZhjnBRSRhGFdXN1gQdFEYvcO+p5KJwTnORU9FOV8qHrhcH3dEfeKYrwpq/rNrSVnMAeYAGjIlTP\n",
              "DHpcR2cej+gqvKy4aVzJRKuINgi1iOXDDdSJU0bDmsX1oSfmaklDjscMXGTd4ypTzy5UrJJ0q2RP\n",
              "rG3Tj5UOaHwMdykaM0Y3tbSLtXzwYDmC6owZ0s+JMROzheFFdNyDsPZ/eGmS0kCJasLLCkYEngBs\n",
              "2Ts/tCkzN0p1AIh8XcEAAAIPQZokbEF//tqmWAG84PtICU/hPnQkJjKopQt97Tg5GyDSln+QEg3F\n",
              "A3POlMQQklvshCigpqZ7Z61o5FrhwWsrSwRAeGvNh51mR4njGUvlpswDQnTRfzW8r1nDCLcYXIRe\n",
              "bhLf28OqzyeVSWklZxFGBwOvjIJVxgkkhCGyrK8SexHepDP2mh4SQ9QQdHllz2MZlw5soQaQaNrm\n",
              "m4d3GK6cqSOyF73tOlow67CHJSIYSRowQuNhxbAF9H0WZg2RQdKx/zUG6BS1f5mJhd0SXGxJDrfu\n",
              "Wf+tfqA6AZ3Sd8DyNBJSzUQN4YAIWwYsfrnYFzEYiBey3MsMOwTDq3tAsVMiuW2u33qiLG9Zm//n\n",
              "aovgcLn50/1fsFqLgtVjKvgpVj4p8dCKgaCb5I/240OuNnPwjXn7t4P0IzsjHtOrko+ui6fgOlce\n",
              "Bexl6LcBLf6ALirQSlanJz0FYbdwdLIEfd/HXx6eXnjy0IPiWN0uJumM0GvsGE+knyq+k1U4MspL\n",
              "rIwiMJo40ds/5jgSduj5g1NeaODcmz4NZdgwwN4V3J9rVxZlFceTw7htk6beA698bXNiHya3o9gK\n",
              "FUNeQi8qQsEszw7cV7Ze2l1gCfhB3WI6n1+JcoCMIVJ66jU//t6QSiOXhdTGlNSX3x2ov4D7faYZ\n",
              "zrCK+znI7WyubYt2WU06tjz+OmcT33P3643Cae3hJ4AAAAFuQZ5CeILfAAC3xnFzCHmPqgBIwmXE\n",
              "83ViNrMdd8QBC65Wy93Y6DTUGY9bbm4bRe0q4Q9PUUdhrFPtuZ9HeVDIKQLW7TAom+jdD13fsW/q\n",
              "7SvXHnidXJS+cLpV9hKWCB9TxGgHg7p7lFDeGgFjhM0e0FwQ+Z9Dd72ZBSyiGkfHD19vcC/rqwPg\n",
              "lOCMGiAZcn7sdZhqFP/SRh64i89vHpYhnQKSbyjvlU2XDSAjC0thUBTZ0KQzrhsQmckHHaU71Llr\n",
              "RaCh5dZhjrLD/VBMcTtcvBBN7/z3/YLDIPR9W9Dm/qyJJVdzitFImT5befrHwhneMJT44jvgOjAt\n",
              "gns6GNeBBgG72i5zLlgn5ZZ4t9256LEO3MMSKTyHUo70U9575DYYt+wOSoZzwbiDa09V6AyGiPRI\n",
              "oYGwA9aVfoD9zQO7+u/q2h5NqOFwaTNLViEPX/dcbT7YrX5DJKzX+rrVoyQ8+7QbZgShHkMMXn+I\n",
              "JmGBAAABJQGeYXRBXwABGYga1S7sACd1Ns/jixU+e49wU/4k1SAyyuF7WiS7nrhhzrGaoHDMugZf\n",
              "E4ejHVv7UHC9BQY5Hy9sST0kf4ZXSX2Kaq7rQGcsQ5NuLTcRSeeBF3mziD4La/tZMQeyVEmpOzCy\n",
              "qfIDUotTcwqq2TqGBZ1ODv/9gxaPeus1FjJkL30qxeSRcQnaTatCUrWMFJMUazkmIecQfy9AR1qS\n",
              "K7svl0gVJdCdzd6sWa7KAZb8bRfB4TdbMDjx/LVsCF5VtSIY4MBr4igmoI4hPXnRpyxcPMekBfzR\n",
              "cW2dtFTyQ1IBtKjg7pKSi5GXPLvITr/jQFDm5LmBhMUkd77Sa6xPamgjSl9ZtmmC8qOzKg/lewk3\n",
              "wsk4w5quGRCaC/FAejFgAAAA2gGeY2pBXwABGaTmqogA/T2N3XbfThVu4/IUq4kkBCrdlzffsfUb\n",
              "KbnQtIMFD4hlT/+/F1K6LkcKN003rf/uSgCkisf6Cs2wIVTH9OYrP2+IYoLkq0EbJojNb1SrKIA9\n",
              "HcxeXuBPRcer58V34eygzvOgkLWrEjccRpiiFPRBMO2MpKwZJAXV2aHNlfXCmS4G1lejlhvcxTdH\n",
              "N6RC+Z/beL+Wv0RA0EGXlpKExPoITl7arfePY6zSMD/sCqxvok1fBe+8RH7/T0pznhOODU3fMl//\n",
              "Q9Rh8kkpnAjBAAABrkGaZ0moQWiZTAgv//7aplgBqMNHIAW+KeeWkSnOvHp1+R3oNzfFZxQdB9/e\n",
              "LAyLX5tb4TG5rya2q1pYOlCJ8+94Q7u1DaHwMBSgXA1mMIwJa5dujTHCH2WAI/T6kIKLc3kjoe7U\n",
              "KNKfwDgeA0J3Rt60QHfZ+OLq8VRxEQMrBiu4S4FbE5M4dmfXlSKLvXxaZlVZhKdLEbCQ9VQ2/k2P\n",
              "FcDYI3gMwUi6D/bVXOBGlUDhYwNpPbzYrw7QkipvUwNQOFUxxjNBtMC5fNPt97RXW1VJSba+Mml9\n",
              "iuUle2TyS/8/IAw+bVMvmT+OKgFv0Tv3mu79ISn589wUn6tDxUd0hqSIhcUXHt7ilqXuAMRjAfxF\n",
              "ogz2j3mhk9ZqF1PZL7S9bT1oRDNy7nf1c4V92IYDQ/Ydym++UzDGGRoCv13er/8+gp8Kzhkc0ZB8\n",
              "YgH8c3UoK0bbT9xfAdrdZNHqOO/3fE35gisvaDU5g/BynfGDsvBYywQbb61rqejOBy34Zrd+UJ6d\n",
              "JzfVucIuK+l8C/Z0OUAbsAIAAA6p4MSBipJ8Kiw5XM/pSTScq0JLkUkes98AAAEVQZ6FRREsFf8A\n",
              "ARmAcE/HYukh9DUAJayNfqfhtfAJ4GQcvd40IZlLn90SNhgBltc6fFpdVo1MBgs/sNlQxQiQoS7e\n",
              "Phn3lIQrCTCoBsOedgMyGKhKibH93ytz1tP1qRwLGB+8wTqju8hGivK3QhP7v0IKSVHrppZOoNEP\n",
              "5lwK33uYFEXwuVVOOhlT/MzY8hDqbIR5J8Ssw0B2kyoYcJsbhM31YdWT88Bzt60xzOvzrgQe8Ciq\n",
              "hEH7D0reS+HzBsFfpLF8EOgXR/67qvYTbBa3pmpijkGG45dsTuafH4zk8+HCrW1Z1Fp4rZKOloL2\n",
              "ROQq8Y45uUIfwUuak/pEoJ7UQ/b0Bse8qQdyamZo678YZ9V5Hhg6QQAAAQUBnqZqQV8AARmNcxvo\n",
              "1iZtEAH8uokNQap67lpzWGi0otHG7pvDzXeqPN3KMsTz447OhBK6wAdsVcT4CRVPR8M+V4tjEN2G\n",
              "fE6YIEJdHNTSTtQa7MeSwb43x4gcG6o7iEH34hbqkhW0M6o/FU2mDsYPPunx5Vq/AjjTFCVBkE/p\n",
              "zkJbdKKwqxVQVUVY0817/Sm+e6dITjMjyPZ1r3WkX8armGGxQe+6klGZiWM6aSGae1aa4bc0IX3Z\n",
              "COqM+hZCoZ1FLfZ0jXJ1vs5AyKTjBsr6mUjojkUQjgYfndyHy53buwAlDK/vNAi2zaqo1+D2sPhD\n",
              "ZdStfKil4LZ3VWlgKbAtJkCjmyEAAAE6QZqpSahBbJlMFEwX//7aplgBqbIaSAG6upXvWj69AUT5\n",
              "2yUFz77xONrRJ3+EuQ5Rmfovj4gyyGLYSgZ4IXxOSMoKc2O+VpatzH+GAIcyz35Y91P1PKx5xfMW\n",
              "NOb7nkP5WQtVZVzY7x3gG37IUNwxSEH60O2QJTj4gYMT3K+u00gWykg3jifsCUCHpdt7Ln9BaQje\n",
              "iULFg1FYFgII/x5WzXn9hw4E1cRfXLxtdx5Z/CSQwsku7wdgiwcu4+lpU39gwtX9ME5vV0QynYYT\n",
              "oT/u0sm1aav5xGMsCZmHyhiunJgcSVCe+jnAlCLuWw6XCyKV7Zvdo7OOxRskLwECgU/eUjtGqCDk\n",
              "HKgXWoXrAHgbBkDPkisC1p/Cmt+AboWRsou2DpxKRef8NRrl7DMWZ3/E++8v1JbPasVBL0AAAADZ\n",
              "AZ7IakFfAAEZJ9rZ41T09U0t3bAAnYXgeQ1ZfR0o3FtuBDGKe7Ker/HTRUuvhrEyQls9/H20jKIN\n",
              "pJDB94DZ2AbPBXi4tsSv3AebPLtfGkCXmmJwVSbegng0l9EhmwVoKDpBXiMCrvvHbWiufNddlHvB\n",
              "JqJS3FFRkJEbYJY5eusiT+uEXY5Twmch5DlgiKZTMrN586mNJPjdYVZ8m1fCPO97AYr90Oh7XuvT\n",
              "JCDtX0Vb3wclgaI+ZjV05BDU6NtoopodzHuVGk1gCOOWUh6MbnRd6ycYKX6h0AAAAYhBms1J4QpS\n",
              "ZTAgv//+2qZYAaqgvAADkKilDZHQnq0WGk5gpmayqa1lXR8Rif7YhReVysN9gcWXrFrek8kKQqKO\n",
              "sAEEaiGMDtplRTXfLHJUQZQADfMq7/rNuX/QknDLtYWNB2WnOt1B6rYSgSnkxPn3EEqwSrrEzNfR\n",
              "mDJC5CFjUDU9UsPn8qHcWwB66Lj3wMg6Riw2qMWBRazFQcmmyGrDd7pN88g9Z++8Evp+jsqDx3re\n",
              "TVphJqfyz50pOPTQfsdFsWEaIa6gOdsaXtBPgQcs9NqN+f2J+7s8StlkAvAgfRm5OqP+/cKLBWxa\n",
              "G9id3WfhID/Q9QrcsFXyXxvin8Bo5HbzcCam1k7Bm0+SHS+4TCsW/pd2vP5C+RjKo3uTRyIjpaLa\n",
              "mz3quIY2kMQENmHd+vPEpin42WOQdWCRl01IxglZB8Y4+hh6SQKdjd4vMFhiUabbNG0TuDDa0fZ+\n",
              "dMwaI/v0C2f44W3KLWTScwA6/dI01pcvu43/lNVNhr+oIQ6w23qqSmOp2wAAAPxBnutFNEwW/wAA\n",
              "t8OvOu3wqF6Lr4AG1CRYLA44wUV23HHxgA38Gvufs/otz3883VwtoMUuc+hrnVKbHWPOpSWpPyEn\n",
              "g5A/3pNcDsHNytdWqFUokeEI6N255mshtqlQ8Egq+GsNr3FqmWfjTAD/DWIUQtLk0SDMzSUepX7g\n",
              "y+jQw3nt6C8vAhCqccx0YB6D3TZKypWjIzkx8R6gMQGJnb6lqWtRaDvR5JlfVj9xTdgJmLS07hHe\n",
              "2soVqbx+dUqZTggtd32vQR6fMHbRXJjXlhcWJnWfZaXDklvQOAyw09FahLCjxzVXqys9ZFlsum6X\n",
              "5Ug/yrELlkoHHrJ4adAAAADPAZ8KdEFfAAEcnjdgATr/AohMYl5b0e/f5Swws+NGOWs/NcYICkCK\n",
              "W/MdtR6i9IftbtdAglheYSrWtzTmTjTwcXTr1T61c4eqdslYgvlgbkgkncezn/fGs4UT/wszFZT8\n",
              "tCy2TBamVd88/Y8tzEM2rgUwQc+CZBeXHSvD6ZdpPG3EGqVL2COQgnhbRsRwWmoGd/5YIi8cHFxT\n",
              "Mj9e8cF2HOCnL7TRHsOAu2TaTWjdtOObuZCH8PIKP6jiDqHS3GLPqGi6LwwCBYKMVQcB4BQYAAAA\n",
              "sAGfDGpBXwABGY2yT2Z+TaABOvvPGhBf0VxWkIy2yyaly5lxrW3hvqb+oGjoggK7pCxZCk31Tsd5\n",
              "fa+URtuBTrR9jdCVca0MXCOM3tXhUCmk3ZMYalvfoHNxw/wYtYOtH06A7Z1P46Fb7TdOFQ2sdsgg\n",
              "emuLanz/RpYOdu56V7VteZVQ71yVBVXhisrSiM6ufyHCOy0KQk8zABl3+4G3V4Pcr3b4AguyYsms\n",
              "LvFBKS9pAAABV0GbD0moQWiZTBTwX//+2qZYAaqha7IArh+YDCudx0+9MWR6KJGeGV4D7C5mQ8jU\n",
              "UKLQ8kNGoAqmGorg+Etk0wDvR7Q1FanKukUzN3EK0VAXc1do9Al/4bDcHaN9ikpTOsiIdkkFs+zG\n",
              "W/tMqe6HRc4aBAc87NJFy5ufo6oEY3otbriYRtmJGBlh8NrwT+Er6Z/R3Lap0XgEJPfIUUeYBuo9\n",
              "gswGAR4wUADcIjDXmVUjFeX0pgBN4b2AqxJjFR+eLeyRVIH+6tL/5N6B783mEUWC6E0pJ9R7etJk\n",
              "vzY0mf+6vCj0mx3hbv5lcYnYNMOS+KtCymxPNRTbrvvECGiE1bHYtnzvwkuiM+lH1ZWytDg091Wp\n",
              "V+g8YgagEKnhQy5k0vR30SmBmbcrEmaGcf/6V9UsBjiohOdrIKmSGOiaSoGQuyscsVtsDvSbccM+\n",
              "vD236dRG7n8xVbkAAADJAZ8uakFfAAEZiKSfnoOJAAJ3K7HxPZKefoQXV94dtRE3E6EX1QA6LGuv\n",
              "3AJZHyhKB317AvgOYZTeuXZaQvtgV3sR0x/1qSdZAY8Dm9jyDDo0NkxI5akK/6o50xgU3ul/J58o\n",
              "ewZSk4cVtSAV06YOJHT78tWoE4Y0dwOH+3Za/GOybACt15R4HxuBKPfSoiD939UTgqV4aNlKaN6S\n",
              "BJ/g52+pGV7VteTVsjfGXCx6SJ15pYM8GNf2BzJx25XWIY66shquXhmRe3eNAAABP0GbM0nhClJl\n",
              "MCC///7aplgBqfiBqAFgLqzxZgCujHBm2x915+rpgt148TbvDwwQ8VOGbl5g+d70boA4DOSxFa8A\n",
              "N15/xBHDipj1zWdvlrPJh1nB3GdiYzCFohQ/UGcSVIxvujSVYusdRkTb7WP0e0z0TkRBkUKSRbms\n",
              "R+ysFDXM+BT1S6V40jRszVfzsYAsVOJbIe2IM1hmahDoVhq/CAwkJ56l+HYLfbfmnDiSoJqVb+4K\n",
              "TkC5tJ8iFaxMXqB97xk1JUOR4VY1dyxSmN5s/7zBalVO/rSTg46yNv4wre+0QJW6pARoTOYhzpPj\n",
              "Koo4pzUbrMJhCdtNasQekhyll6DClb8bnHDkqBbIOvwYkWN5huhSw3D7Dnmg5v25Gn13s1BgGigG\n",
              "5aWJp6vJHgUwPfThaYRyMOVj9HSQHVsuHuAAAACtQZ9RRTRMFv8AALlTkRAAE7HhKJ1+MebJPHKJ\n",
              "FIqhXz5MDns6LO6EF5szjgwYRcA6GjPx45Lp4V3RiPMTsqwLgoMH8E44YjldKjhrZWNwxlMskmwG\n",
              "D0k5NGKfXm9e1hBm6hPgEIGrnemPeI7lINJ0R09WHeLhsQeod7Tp/ENSzeW4ihFWHcZlxUM2BZQP\n",
              "/iL0u898agoCFvOqODgAA1wgA/hW6RQePn9J9AYGs2AAAAC6AZ9wdEFfAAEcYdg1QAfoHzyTZmzz\n",
              "EoLnPAtSI6yrSHgJ/tWwq2sNU7yjxXSO8rnuHFXMe5xLfGwDFqTWFXuvWzV2RdSvDadHj6xWwWG1\n",
              "PMfoeIpVxiw4zwoUTHAOumlHcBdRG0UdPLZ3yq/MN1usHzlBLNvEeLJstWB543JpYBiad49veG8I\n",
              "F9rGE+MIzfJcEvRT1lSUYsEY9V5XZs5HHS+oeE7eWuRdjXPBrdk8GcYwC6VSpp/4UbGBAAAAmQGf\n",
              "cmpBXwABHE9vzgBNP7yXj0spSGEg9kNLCHDy7zfqR1uqIgUuou3Tdk5sRCtwf4jM5M17P0o7qQ6U\n",
              "P8nscOR1HJwjL/s/19ISzyAO6YKbiFp/s3S6hykDnNVF2//R72d6toQH8gF/ora2S4u0yp4Ngnlh\n",
              "2Bp3JcWiCgEVqZ3iwc7YXiamCn1gflmoT72fNtUYb0579LWNkwAAATRBm3dJqEFomUwIL//+2qZY\n",
              "AajItpAGpNizdJZW/6+xg19WKEy8sF74URq13TdD9Kj1lmJB0vhrTu3He8aAEbcy3z1nNiclM92q\n",
              "gdXdC2QPnKA5ywZQJ+1FgRwIlERGy/fh77q3bFKIF4NNtCn77KWhOeHd4UnQddFvhorbYbgSJWEF\n",
              "iYZbRAmDwz5vYOXkfHpd2NobHp3Bk69bNyX+gw6yEuu9Le2SIVvojKxE9AEX8oZGRSgn5vS8Dz00\n",
              "D5WfyyBxvaPOkZcbHuMZLGNaOGHn6UCjyDKnRdcyrv2Il3EXQiWZNDTTegupFWBEipD2+CPS0oLA\n",
              "b5yprsj1tm2OvdR4WTfySk4Wrmg3JdNuCtKat/IoWddgn++9y0gaGDE5GnqqBYlRv5vRwG3BaO39\n",
              "dIDf3oVbgAAAAKlBn5VFESwW/wAAt8S7Hn/9QAqBKm+ysAzA5ITEqCtF72xAttcc5Q57haEYsGa7\n",
              "m2N6F5pTHa4EmPo3InCVYUdgYHLPadMA6yfLJsyjQRVbfHdye3XvX3fmjw5XB1dTbUPpM2J53nvh\n",
              "j4LuHcVh4ukFYO+s9ICwZPfPEeJfDrX8hywNFgKxX1qaMOlZbfUCUbSHnqxmTkbU1mRxcfzgRD30\n",
              "W7O9qr8GIowpAAAAvQGftHRBXwABHvWgATsdL0PZCA+wVKpyYz2RJW1/pO/Cjk4hp7UHpjgMLKGX\n",
              "c/pKE4Mvry8jMeG0qX3xLYpBp7eXm4aBJ5BzWUXCYUzHZ2dvkIsrNQiIgSFMKlJkThL+Jk8j2V7x\n",
              "4E4vKwIb6pOufg9suJtyEZ4KiKELeM7F7vmpu1/kAjdnr84g0dWppLAmFjSyqNyma8JMF9x8Jmbo\n",
              "dSB5E5SzYywRDQn+WJXx1imXdGfsRq/sY4U2FerCgAAAAEsBn7ZqQV8AARye0xTAG66D+IASAS2O\n",
              "RJ9O6c8C8yjqSSzR/fh82pPfuZasZs8cpt8nQMfhfBy4f81BjM56xzql/ynpSX6CPI8xit8AAAEa\n",
              "QZu7SahBbJlMCC///tqmWAGo5JmADVm8hqStUP4346iho0EetntnBhWPD+Cy2SB2mAcGE6O3aCZr\n",
              "7fv0wQLkDm5rnemP/zYPgjKx1wb7BAOLIyg49r6QLh7Xvc2MsccSxMk7VA8TxC/xnq9BXc1jRdfF\n",
              "fkKW91b8H5oBdG9c3yuU/LjzzyRqz+1XjElQTUTh0+XYZ8VQJKzDC43kOXFfQ00eMHqaJhaKmWaz\n",
              "NEYqUWkqLKgGLxbks9t9yJQBrhkXPmdsuKVZ3w5UbqK5R5VtfrnP4bsYfn80a46/p/kMOhYOo505\n",
              "0auBH9qCXq19zti7i44x3juqZdiQQHIJMbCtvOIAlOIF13tWgsqsn+cgY/fL5/b4dV66RVuBAAAA\n",
              "mEGf2UUVLBb/AAC5eYoZ4e5S8X/QABEB4SiX1A2ojvBoM2/zEiveB7t4oiD6LyXAv994HgbApqsX\n",
              "vR5ciYdqyTq+sOP9oBwqtYftKOlJmSpzQtF4IlQL1OI6l3vGoB0h1kVJaLjjbRUDbuS5RPmCeeL0\n",
              "kFc7j1+24Gok0YCAegTD0oO+Jht4D4uxdYsmKsLDpDtlfv6OS5SQAAAAcAGf+HRBXwABEY10RMha\n",
              "JyRkIAE7nD199IsqJ9Qqd2R8qgmrhulUhmYzWmcIfiCpxz3bfjCdQyRFmuRyGjVw8A4YQhVbwIz7\n",
              "cTDOyrmAXSDo5/gYxdv/1B5Nin1m1tolGV66f+nmSzlUNhi0zF6/2XkAAABoAZ/6akFfAAEckVXT\n",
              "TNCsnuKCAD+t4OPAZY6OLLZ9ZIJ5qyTphaHW4sDb/HjGv6jGsqqlHWrtoK4Lc95f72fCZb8cbQTx\n",
              "XubuIDxJoQQr5AxofCcYPZRGW5fBw9q2TkuvlTc+0Eyb88AAAACvQZv/SahBbJlMCC///tqmWAGe\n",
              "9THIATUfZpPXEmjQUq4iw/XZF9j3+H7F4rcTD+q9+kXApoVzyqnnoOx5VnyaabvzDdJCnp+KsLxL\n",
              "/AQMEBLUIEaW/UpTqLAre+CSLYVLSECPbflbDz+QEZr50SsL63XtFlbZvYUS76BsDkSI/MUfB0l9\n",
              "XmO2tVs787Vv5XRNwsckuAAV2qAHikrk7HQ7uAxW16OLjAEncllem8IYMQAAAHZBnh1FFSwW/wAA\n",
              "tPYVmACaiWaizmr4LJH3kE7SEs4VWGwXy+dUWVd0n1WIqYP2oiZT3PruXG23fW1gQbV82eYB2jB3\n",
              "zeituivgirMRTctXGRjpHoicUa/z78Req1zP2C3yDnDr4etKvWb6alRgkP2YgUfTRnQTAAAAeQGe\n",
              "PHRBXwABEYgspPyBkvgASYx32Ym9dgOr1hY0wllEsHI0rwkKeJoG1O0p4/n7xCXZidRw32Ov5GRg\n",
              "Utzw/K3cEtAEnCf/mWLiFqifggISSYxqLI6UGVu6RE0AB1tfd4vlnhnAtsp9U18r9+CJSgXrTQeT\n",
              "Qi12eCcAAABeAZ4+akFfAAERftKJbkX2wAJ2OZsZ5iF+FW9PjjvRIhgv5sGsCMR7kN8JIMf/2frQ\n",
              "v9P89Pokv/ZHYx0Fbmt7yUYLZMS1oJcqFymf1vfIPq3+zxAZx+44K4sx1c/sYAAAAStBmiNJqEFs\n",
              "mUwIL//+2qZYAai5Xbh24eQH96pQt7Yj/eR4wjPrYWIhXDzQasJEzTQTuJ2WOZnWjtkbTM31Ua+v\n",
              "0ie0GV9NBUitqgB1obKyATfO67p1pAaEppVJLQU1U+zXGcFpPZGrsFzwhEfpLA6x0bjeTNBE1LRq\n",
              "O+KnWF1WxyoYQqJ49Rw0R950blWlfLlodgp2G5SzRVuTUGGRPPexKwMBJOtb9Xf8/RU41UtqcQUN\n",
              "cdP19PSG9fldgJeml6tkLnMbrj5AAL3ic1ugpiQCsOy6DdO3R8TegebiZLelzyBcomq7lJ3Yk3/e\n",
              "sZ+0JNnmli6a6FcDlhOXODWd5PdpUIX/a0U/XuAGyD6373ZwZi0uGpSK7n2QEmQ5qav7sz0hZMwU\n",
              "MBL8lhBU4QAAAGJBnkFFFSwW/wAAuAhj7yZy0IfEPAATr29/6p0XrIdXrO7g6kJLpp0UUV9w3XvC\n",
              "T/7o3KIK6M9Ma3ylA+F/0nwXiLZsQstSUVubBgAwprenBrokBqDQgbAQt/I4EIO3M89fdgAAAEwB\n",
              "nmB0QV8AARGNsr6o1AtGB4ATWptdM946diqj6AQg4ZQhO5yVEYi6uhvT9ryyKrhqz/UPKjv4sHDA\n",
              "8ujC9TMGfEzQeTdYOQPqnuWBAAAATQGeYmpBXwABHJFWIKcAUX7wAJ00otwyiNHxSpMTvVWdOFHD\n",
              "4w/4mRDan9QXl6NvRMQkQM7Kzy/5s687or9wQwx8rhMSMm00L4Dhzva1AAAA4EGaZUmoQWyZTBRM\n",
              "F//+2qZYAaB3QcgCI99WIiwyHgsbXCgXaGHScW11n8YTHmJtEyjrMatqdqUQpigU5tYM53zwV4KO\n",
              "Pjm4fkouGLkjAq1e3glbBJ4cG/ekmF2Oco3JdpS6bVjU+FQrvXw5yS0YO3BH8NYqEOzVjwH8VkqS\n",
              "gXMzXmSCd6Q5K84QHmkfHgvFcKbz5FwzvBqnfpc9SP88Eacjr5R/hYnZRN/zFeffto9myyfnJtNQ\n",
              "CgVtUJRsrNAf+Cl7NktgDEJPb3S1xhx39U3j+DP3hL+WskqAUdCUwUuBAAAATAGehGpBXwABEY3i\n",
              "iOboAE50mam6J4hOZfcw8eFHOnrPD5Ttx4i3O/8CWE//VN/OT7FglVUVz9tCPtoycVOhbUOrqQC2\n",
              "KDybNCrxq/sAAABQQZqJSeEKUmUwIL///tqmWAGeuvMMskANybthD8dScPc0TFQode5ZV/rspAHO\n",
              "CmAA8Y6QiI/1RE+dg09V0almc4f4hNVEMV2E/BJHpDBADKkAAAA4QZ6nRTRMFv8AALNJjQIroMAD\n",
              "9DS9+/F/TlO1uy+Jz2erj8hEoTVkCjI68Zj50Si2ah/1b69AH+EAAABPAZ7GdEFfAAEUneWQAfyG\n",
              "2gDi7wxW5QZc6sJ7jCeIFx8Thp0aINMFYYbzPIZVr/R45nUx9aYXRvL21tFpmlM6O7HXEGb0LHAr\n",
              "vh//qqAqYAAAAEIBnshqQV8AARGlWuWqGUyADwz2+mUt73fgG41ufeTgj7J+l7/P3LOCBahL2uff\n",
              "TZTnz0+uAL/UQwLPYYiqlBO0BUwAAADsQZrNSahBaJlMCC///tqmWAGgzO/zJrjaF7QCEKlZDRDh\n",
              "8Sw/qgyjLXyOUKp9jZka+Pm1Tt5sWSVIjjdiiPRhld66bcThb2/2tVUKH64NYqH+k5dhUgMkzZs9\n",
              "3m947WLlFHhtT0TXJ2OzE476rSSBA887fmUvFGa1QR7SQQvSmPxnH1KRI2mfvV5HJrPDFMFMjpg/\n",
              "CA8zZda2P2RU+2zmnq/83J+Br0OwjH8mcsNlMl+5AxETM/92UcT1VWBCJ/9+V6LwCTWiGUej3MAb\n",
              "/JUdzNv3EEKg658VtcOSQO1IuFiNmaD65TNWhvQXk6EAAABbQZ7rRREsFv8AALNFX76oNfAAOOp2\n",
              "jBOiodKt+WV9ANi9xLM3KjziPUtFgmiKL0utYPTqBfq8ZRT9MiRaIOVHDDPVDwCdvDvdQ3BIWmgh\n",
              "RjO6r2DRgIdESeQEUAAAADcBnwp0QV8AARIRjpAB9OfUDu4t7hdE9QmAMB89yndd6eMA+kDzpM6N\n",
              "AP4hwe0AcMKP4qZmgKmAAAAAEwGfDGpBXwABFJ7WVUHkmEtTW5EAAABqQZsRSahBbJlMCC///tqm\n",
              "WAGesGsMKwBRA0M8EgdifXezFJsL0n+i3k5wJWh7ufDqXHfaC1jdRzQiaUdhgsrYgSqZVDYhLtKw\n",
              "F3G5RLITS+iKNezIqomwYOCLZu7Fi1a4z/fd05vQQQAyoQAAABNBny9FFSwW/wAAtPP0lgcHCCbh\n",
              "AAAADwGfTnRBXwABFJ0XGgDrgAAAAAwBn1BqQV8AAAMAArYAAAB+QZtVSahBbJlMCC///tqmWAGe\n",
              "4w5Ac9B4BhMBQLS64t5yMW1IFUVvwFrMQViJmgykMAZ98Bm6OaYhUE0HMFSV1MXiIIGhA0TRx+D+\n",
              "brko+6UE8DO33/cVNSQHV7pee/uOuRN1N28oBvdhNRVkGjkTeDa6IdivVijeYhfCAKmBAAAAE0Gf\n",
              "c0UVLBb/AAC0+Ys7I46EE3AAAAAMAZ+SdEFfAAADAAK2AAAADwGflGpBXwABFJFglwDrgQAAABVB\n",
              "m5lJqEFsmUwIL//+2qZYAAADA+4AAAARQZ+3RRUsFv8AAFp75mu4DAkAAAAMAZ/WdEFfAAADAAK3\n",
              "AAAADAGf2GpBXwAAAwACtgAAABVBm91JqEFsmUwIL//+2qZYAAADA+8AAAARQZ/7RRUsFv8AAFp7\n",
              "5mu4DAgAAAAMAZ4adEFfAAADAAK3AAAADAGeHGpBXwAAAwACtwAAABVBmgFJqEFsmUwIL//+2qZY\n",
              "AAADA+4AAAARQZ4/RRUsFv8AAFp75mu4DAgAAAAMAZ5edEFfAAADAAK3AAAADAGeQGpBXwAAAwAC\n",
              "tgAAABVBmkVJqEFsmUwIL//+2qZYAAADA+8AAAARQZ5jRRUsFv8AAFp75mu4DAgAAAAMAZ6CdEFf\n",
              "AAADAAK3AAAADAGehGpBXwAAAwACtwAAABVBmolJqEFsmUwIL//+2qZYAAADA+8AAAARQZ6nRRUs\n",
              "Fv8AAFp75mu4DAkAAAAMAZ7GdEFfAAADAAK2AAAADAGeyGpBXwAAAwACtgAAABVBms1JqEFsmUwI\n",
              "L//+2qZYAAADA+8AAAARQZ7rRRUsFv8AAFp75mu4DAgAAAAMAZ8KdEFfAAADAAK2AAAADAGfDGpB\n",
              "XwAAAwACtwAAABVBmxFJqEFsmUwIL//+2qZYAAADA+8AAAARQZ8vRRUsFv8AAFp75mu4DAkAAAAM\n",
              "AZ9OdEFfAAADAAK2AAAADAGfUGpBXwAAAwACtgAAABVBm1VJqEFsmUwIL//+2qZYAAADA+8AAAAR\n",
              "QZ9zRRUsFv8AAFp75mu4DAgAAAAMAZ+SdEFfAAADAAK2AAAADAGflGpBXwAAAwACtwAAABVBm5lJ\n",
              "qEFsmUwIL//+2qZYAAADA+4AAAARQZ+3RRUsFv8AAFp75mu4DAkAAAAMAZ/WdEFfAAADAAK3AAAA\n",
              "DAGf2GpBXwAAAwACtgAAABVBm91JqEFsmUwIL//+2qZYAAADA+8AAAARQZ/7RRUsFv8AAFp75mu4\n",
              "DAgAAAAMAZ4adEFfAAADAAK3AAAADAGeHGpBXwAAAwACtwAAABVBmgFJqEFsmUwIL//+2qZYAAAD\n",
              "A+4AAAARQZ4/RRUsFv8AAFp75mu4DAgAAAAMAZ5edEFfAAADAAK3AAAADAGeQGpBXwAAAwACtgAA\n",
              "ABVBmkVJqEFsmUwIL//+2qZYAAADA+8AAAARQZ5jRRUsFv8AAFp75mu4DAgAAAAMAZ6CdEFfAAAD\n",
              "AAK3AAAADAGehGpBXwAAAwACtwAAABVBmolJqEFsmUwIL//+2qZYAAADA+8AAAARQZ6nRRUsFv8A\n",
              "AFp75mu4DAkAAAAMAZ7GdEFfAAADAAK2AAAADAGeyGpBXwAAAwACtgAAABVBms1JqEFsmUwIL//+\n",
              "2qZYAAADA+8AAAARQZ7rRRUsFv8AAFp75mu4DAgAAAAMAZ8KdEFfAAADAAK2AAAADAGfDGpBXwAA\n",
              "AwACtwAAABVBmxFJqEFsmUwIL//+2qZYAAADA+8AAAARQZ8vRRUsFv8AAFp75mu4DAkAAAAMAZ9O\n",
              "dEFfAAADAAK2AAAADAGfUGpBXwAAAwACtgAAABVBm1VJqEFsmUwIL//+2qZYAAADA+8AAAARQZ9z\n",
              "RRUsFv8AAFp75mu4DAgAAAAMAZ+SdEFfAAADAAK2AAAADAGflGpBXwAAAwACtwAAABVBm5lJqEFs\n",
              "mUwIL//+2qZYAAADA+4AAAARQZ+3RRUsFv8AAFp75mu4DAkAAAAMAZ/WdEFfAAADAAK3AAAADAGf\n",
              "2GpBXwAAAwACtgAAABVBm91JqEFsmUwIL//+2qZYAAADA+8AAAARQZ/7RRUsFv8AAFp75mu4DAgA\n",
              "AAAMAZ4adEFfAAADAAK3AAAADAGeHGpBXwAAAwACtwAAABVBmgFJqEFsmUwIL//+2qZYAAADA+4A\n",
              "AAARQZ4/RRUsFv8AAFp75mu4DAgAAAAMAZ5edEFfAAADAAK3AAAADAGeQGpBXwAAAwACtgAAABVB\n",
              "mkVJqEFsmUwIL//+2qZYAAADA+8AAAARQZ5jRRUsFv8AAFp75mu4DAgAAAAMAZ6CdEFfAAADAAK3\n",
              "AAAADAGehGpBXwAAAwACtwAAABVBmolJqEFsmUwIL//+2qZYAAADA+8AAAARQZ6nRRUsFv8AAFp7\n",
              "5mu4DAkAAAAMAZ7GdEFfAAADAAK2AAAADAGeyGpBXwAAAwACtgAAABVBms1JqEFsmUwIL//+2qZY\n",
              "AAADA+8AAAARQZ7rRRUsFv8AAFp75mu4DAgAAAAMAZ8KdEFfAAADAAK2AAAADAGfDGpBXwAAAwAC\n",
              "twAAABVBmxFJqEFsmUwIL//+2qZYAAADA+8AAAARQZ8vRRUsFv8AAFp75mu4DAkAAAAMAZ9OdEFf\n",
              "AAADAAK2AAAADAGfUGpBXwAAAwACtgAAABVBm1VJqEFsmUwIL//+2qZYAAADA+8AAAARQZ9zRRUs\n",
              "Fv8AAFp75mu4DAgAAAAMAZ+SdEFfAAADAAK2AAAADAGflGpBXwAAAwACtwAAABVBm5lJqEFsmUwI\n",
              "L//+2qZYAAADA+4AAAARQZ+3RRUsFv8AAFp75mu4DAkAAAAMAZ/WdEFfAAADAAK3AAAADAGf2GpB\n",
              "XwAAAwACtgAAABVBm91JqEFsmUwIL//+2qZYAAADA+8AAAARQZ/7RRUsFv8AAFp75mu4DAgAAAAM\n",
              "AZ4adEFfAAADAAK3AAAADAGeHGpBXwAAAwACtwAAABVBmgFJqEFsmUwIL//+2qZYAAADA+4AAAAR\n",
              "QZ4/RRUsFv8AAFp75mu4DAgAAAAMAZ5edEFfAAADAAK3AAAADAGeQGpBXwAAAwACtgAAABVBmkVJ\n",
              "qEFsmUwIL//+2qZYAAADA+8AAAARQZ5jRRUsFv8AAFp75mu4DAgAAAAMAZ6CdEFfAAADAAK3AAAA\n",
              "DAGehGpBXwAAAwACtwAAABVBmolJqEFsmUwIL//+2qZYAAADA+8AAAARQZ6nRRUsFv8AAFp75mu4\n",
              "DAkAAAAMAZ7GdEFfAAADAAK2AAAADAGeyGpBXwAAAwACtgAAABVBms1JqEFsmUwIL//+2qZYAAAD\n",
              "A+8AAAARQZ7rRRUsFv8AAFp75mu4DAgAAAAMAZ8KdEFfAAADAAK2AAAADAGfDGpBXwAAAwACtwAA\n",
              "ABVBmxFJqEFsmUwIL//+2qZYAAADA+8AAAARQZ8vRRUsFv8AAFp75mu4DAkAAAAMAZ9OdEFfAAAD\n",
              "AAK2AAAADAGfUGpBXwAAAwACtgAAABVBm1VJqEFsmUwIL//+2qZYAAADA+8AAAARQZ9zRRUsFv8A\n",
              "AFp75mu4DAgAAAAMAZ+SdEFfAAADAAK2AAAADAGflGpBXwAAAwACtwAAABVBm5lJqEFsmUwIL//+\n",
              "2qZYAAADA+4AAAARQZ+3RRUsFv8AAFp75mu4DAkAAAAMAZ/WdEFfAAADAAK3AAAADAGf2GpBXwAA\n",
              "AwACtgAAABVBm91JqEFsmUwIL//+2qZYAAADA+8AAAARQZ/7RRUsFv8AAFp75mu4DAgAAAAMAZ4a\n",
              "dEFfAAADAAK3AAAADAGeHGpBXwAAAwACtwAAABVBmgFJqEFsmUwIL//+2qZYAAADA+4AAAARQZ4/\n",
              "RRUsFv8AAFp75mu4DAgAAAAMAZ5edEFfAAADAAK3AAAADAGeQGpBXwAAAwACtgAAABVBmkVJqEFs\n",
              "mUwIL//+2qZYAAADA+8AAAARQZ5jRRUsFv8AAFp75mu4DAgAAAAMAZ6CdEFfAAADAAK3AAAADAGe\n",
              "hGpBXwAAAwACtwAAABVBmolJqEFsmUwIL//+2qZYAAADA+8AAAARQZ6nRRUsFv8AAFp75mu4DAkA\n",
              "AAAMAZ7GdEFfAAADAAK2AAAADAGeyGpBXwAAAwACtgAAABVBms1JqEFsmUwIL//+2qZYAAADA+8A\n",
              "AAARQZ7rRRUsFv8AAFp75mu4DAgAAAAMAZ8KdEFfAAADAAK2AAAADAGfDGpBXwAAAwACtwAAABVB\n",
              "mxFJqEFsmUwIL//+2qZYAAADA+8AAAARQZ8vRRUsFv8AAFp75mu4DAkAAAAMAZ9OdEFfAAADAAK2\n",
              "AAAADAGfUGpBXwAAAwACtgAAABVBm1VJqEFsmUwIL//+2qZYAAADA+8AAAARQZ9zRRUsFv8AAFp7\n",
              "5mu4DAgAAAAMAZ+SdEFfAAADAAK2AAAADAGflGpBXwAAAwACtwAAABVBm5lJqEFsmUwIL//+2qZY\n",
              "AAADA+4AAAARQZ+3RRUsFv8AAFp75mu4DAkAAAAMAZ/WdEFfAAADAAK3AAAADAGf2GpBXwAAAwAC\n",
              "tgAAABVBm91JqEFsmUwIL//+2qZYAAADA+8AAAARQZ/7RRUsFv8AAFp75mu4DAgAAAAMAZ4adEFf\n",
              "AAADAAK3AAAADAGeHGpBXwAAAwACtwAAABVBmgFJqEFsmUwIL//+2qZYAAADA+4AAAARQZ4/RRUs\n",
              "Fv8AAFp75mu4DAgAAAAMAZ5edEFfAAADAAK3AAAADAGeQGpBXwAAAwACtgAAABVBmkVJqEFsmUwI\n",
              "L//+2qZYAAADA+8AAAARQZ5jRRUsFv8AAFp75mu4DAgAAAAMAZ6CdEFfAAADAAK3AAAADAGehGpB\n",
              "XwAAAwACtwAAABVBmolJqEFsmUwIL//+2qZYAAADA+8AAAARQZ6nRRUsFv8AAFp75mu4DAkAAAAM\n",
              "AZ7GdEFfAAADAAK2AAAADAGeyGpBXwAAAwACtgAAABVBms1JqEFsmUwIL//+2qZYAAADA+8AAAAR\n",
              "QZ7rRRUsFv8AAFp75mu4DAgAAAAMAZ8KdEFfAAADAAK2AAAADAGfDGpBXwAAAwACtwAAABVBmxFJ\n",
              "qEFsmUwIL//+2qZYAAADA+8AAAARQZ8vRRUsFv8AAFp75mu4DAkAAAAMAZ9OdEFfAAADAAK2AAAA\n",
              "DAGfUGpBXwAAAwACtgAAABVBm1VJqEFsmUwIL//+2qZYAAADA+8AAAARQZ9zRRUsFv8AAFp75mu4\n",
              "DAgAAAAMAZ+SdEFfAAADAAK2AAAADAGflGpBXwAAAwACtwAAABVBm5lJqEFsmUwIL//+2qZYAAAD\n",
              "A+4AAAARQZ+3RRUsFv8AAFp75mu4DAkAAAAMAZ/WdEFfAAADAAK3AAAADAGf2GpBXwAAAwACtgAA\n",
              "LUpliIIABf/+99S3zLLtU2+2C6j3op4mX0N1JQGblsTtOoAAAAMABnddzdfZ7UKmP+SfyuezUnWo\n",
              "gTapwsayISffMj/pYQEZSVDwPgckKBl5A9/sqc7XW17EI3h4T25Lbhl3YLkDwV3p1uNgEf5ofMGx\n",
              "8Z7X//FNva4uSaiPLDVXgsHNENN5inat75M9Ws06kHdCEXOkIU1M6S9cagRBCxJKC+AuUqfLhhwm\n",
              "3IvqZeU21RyHnLlqnHarUM1OPNoaFLLCJF5pwuUXAIdlF5mvH/NFtLXpZjD7Ybnv18Piut0snzy/\n",
              "znbNWIr1RZiVukVMWyanhC9X0xBUT6maKiAZCfELNrHjLq556mBCuZpvwKJkFdCQQ7tlZEIJhHYi\n",
              "HCM/UXS6gOdiKwRiif6Lb3PUnMXhJ8cEihhaIbgrpciV07qBXldb/7lPr0zyhJkqXZFidoJw5EOP\n",
              "iXzzWyWwjL78Pr7tnNZImQI5yyAgg7tB1PvpDCQVzyk3/FdtBJ/ZBmxk7SXdzXGT6yg1shN/BNxy\n",
              "gv8cN5cHXLEMJkj1RdtVJsJckwMVGETt6md+cxX36RDstkmaMtkDteXe2Dy902qPXoa5Xw2ao+l7\n",
              "0CNz2NwW1itjar9x0S49fndwZS+4mUEDIPHH9yXeLcayszCBS4uwU/0LZ9Qqmd4LThQeufn21eWm\n",
              "YJpUNQFLlrFogreggrMzi4QP8ykVW4aIqOTayhRmUGNFcQC9YquEdrMwfCvbU+Qtrt7jse5Rr/0b\n",
              "coehfTkDNufdIhhKCIPzTguHGl7I1ZSOkSKBeAHXuJEOQKWukPOeV1jEkUgqSFqogpprRm5LkfIJ\n",
              "NUrRW4MHE5bVeNGQ7j3hrnX9aPvDDmUgtbBvXERt2FWIwh30kUsVy8YyUlGJAQW5ITRotZpxsK4T\n",
              "mhHM2pfpTOTUmnVX/czYXgAlR1HFJgCwyqB8OnYeIoBwwImjVVrAk/WHMCj1Q5lkFHyHa0KNPGPz\n",
              "oq6+dH6bBw9btTeuQJ9mS70Afxw6ZcAgfhAnoCw9DUJiCvOLiN6oZpanigELP/i8v8girZSw0pAH\n",
              "hufHFRN/uMt9+dZk6WtqEGhhIh6MIPC8k50xmIeY7uJbnkNSOpQZ5quRwdRy09MXuzxP/HkF6ZQp\n",
              "ey8Sm79HQY34Bey3hW+lKSVb+cxgd7E0tGJCLMbukMeAgaE2G/4HvHLUi2wC33QOPHhJXIOf2b/r\n",
              "JntFZRt9uGUPa7NZzd5bbJNh8xBbzqpU5NsB3eEn7Zms8S5GNed5p+R3dRxYuTwtmiIfOVlks4t7\n",
              "Nr5i4KW4JB5QsenmEU86Owj14fNeiVCzdpS3Mlc0/5DsILY/zHgZ+iEtioOBZNwP1Gz+ZqOP2e68\n",
              "ezDi6hkoTnws03Rio+zKNxnBKcwaAgpSo41hlbhpX6pBIP0ylEQwZ6AYBKLm75p72EuVDVPXkaZD\n",
              "wJo1stkLbKb3+9M2DBbDT18y5OtdzEJAaLmEVG5mfhsC1dZ6jjTyHT/7c4w00s6v1qki6EKjsHCA\n",
              "BHkCLZ3+mNQW0+zF9CbYLcBYtANYbSACTBG7PZ8hIRfaK2ko3jPC7GF0+d4onUZpo/p0nu3PMVxl\n",
              "a4vVXKjvWCDQfZ1HgFWGuRd5E9yTM1n2n9dVrBvz1PznzKncGB9fKEuyNEIK1wbI6zarHeA0ZTdQ\n",
              "9PA0b/rwHZSbh+/KZnbDWkPH2YJe7sE0tk6DjnXG2+Z5meHUdf/mzf8uVqYdY4119a23MoycLiRm\n",
              "IWHc/EohcLovojWZQ0+t4UloP4LRmXn70jb5PuliHwdQ3+BvXeIAbBNWKf6wdcnHBjvAw8TvtlKt\n",
              "9qlYj01DbhewcEr09zCnBZiObgyd4wM5P1F3oHNIOVwRy4iUrmMxwBh0Ki155xYIaszYwcvzXoAD\n",
              "Hm0Hv0pXMZPKAkoMXXgy4K3FxUZM/WQTl4rfjvc0YyAaeVOmBFgKmeufzFxKj7pnhuWs51+9b3QK\n",
              "YrqpE6lrNAoHx4DBfDvlR93Tb6wA8hw6PxLg3r6ChwS7JeUeCFLp9eA5TNEpT+A9fIxZXZOlTT0w\n",
              "pNjZ9JdsU5obJUknXXubpdnL4VgG9NZL/hDWofTyp5WUAPArmzXI5uh8fEiz8Pyf2EdmA9vTL8+a\n",
              "MVulbwyGRnCaU1n90HEarAUKhTKdd4Al1q3OyUgnrsZAY0hQ9iBC2m0iXgX8jewiS++Fw0dV2IYB\n",
              "n0Mvos/Gjz54d1nQ7zdQZu1sdrN7kaAUILWaYLhtfisf8ow5cyRCbDklDdHGsy98VkhiJ+0M3TKl\n",
              "IF/HWkSAPKUKTLUjMlmVD7ScdknilNHoN0iVhYPB3c8F+QX2WETg8mbvEL0JtkjR9d7wc0xLbrRk\n",
              "Pn1CAFFlelmKzKisSgnGrIP6byC9rIJC6qnhoh/70KdOi3mZk03kqiX3XeBpqQbYReMS8EowBywO\n",
              "ozdKiDWoLsVKzmxm94cvuRgdUCOmIoXUJMmXIsAh+K5hqa2Vu9H+bVjBP8nE6bzGA1woeamV80mO\n",
              "S6NRyOWNU0N0phbv+qN86ESMCNx/wBnjygQKF7OtgvSPSuHN+whyoTQsDVrpljBH/NimcYSP8vO8\n",
              "r4fZY66kj7ptrW/IVei8BLKVCV7IAamQCPbEpOiuzuhcrOsfnpnZMUJuaUkQ9t8KQHMXz9ohty3A\n",
              "XPrQHwYIFTaLsnlmgyi5ul1rL4CSbO/o2/9ZF0HzFB3grPpiPXmSqf1JQ91VnjDF3A7EYg6bMvT9\n",
              "byhIIAElZ6JgLv2BWWdtbC9aWmrivgfsZ29Pa94FPy/V4Rqaam50Ik7I5v54XsqH8GOOsczoudNo\n",
              "4rYB53fzz23RCQm0bofosbb0qO65Wb78mjBnETmcQ51c9ZLsRxRoyWZw5RiGn7SZ8UlndglXK2nA\n",
              "L8uhr/0D5y4O8ZEk0iEBxSNhU1TkpAPn3SLrxnfQl8jOvoroFgGZ9CiO3hQdTzNTlmj8fbrSej6S\n",
              "Aps10togeb3AjwGPaGfwzOCxGpMrSuBH3EwSdA3WhDYhg46PHlgAlWDkene4duiPfqirBiQU9HlZ\n",
              "SSeUe4bB5PBZ5e5/dV94P89N0TixE6VHzxa6uolKm62MqEmsNhf06SPp9GWPjCreuzeDsR3eXKCU\n",
              "mmzqy1t7Cu+/SebF0nwDDHVybtND+y0oNqUrO/cL33JBo7e0nugOp6PIarmZEPynCunz+qVvs9xr\n",
              "G4GnXLh67t1krIzCdjB1fQSwkONfmR/hMXb/X+iit1rfRHsuk3/jLpbvVKDZLZYhW8uY93V5agN4\n",
              "KowNDQhDrFEVkw1dtDjh5foTAd1gCCO9TY6ZnhW/9vJt3WDzAGL8bUcfaAjuW6DeKYGbUBupSdWo\n",
              "VCGCQq2b6+JTFHklNl2ivCOIgqSJlJD4cEfRobjZnJTdcQ4rBBsrotsW23tJ6AC3U+39MJYX+RRf\n",
              "oLwi9ju5eZMt+pTpZY2Q71OhwmUcKsVMPwcwr2amVCzQw/H7VL72GSCdQ6drYB6NnaKRZ+0C9EYq\n",
              "9ofFqRJ/VvP8UbkNmcwYm4wwzFanBGWcoul4rCa8XMh9rUap6dnH6L70MjlCUqZbt/FifcRQQDQC\n",
              "nAQUNXTFAebd1YJt+GhsUV+0nNgbtqclRhhYIMQXocriW8u24uqTBJEUKL0UQWt+JvNTgme6sXNe\n",
              "z+IvqbM0Tl/I60ZNrloNhToidnQiKDaNdlX8Tf3mFU0+RPVMn4VP4SBCL5bwG+MF5kccUBbJORPn\n",
              "XBMc2o2WqOvmuhR6iCUaKuzvfRtvxaWU8vq9VRy5lkaGTW1FAgiQV0IOUj4jH5B/dWg684xn+XKQ\n",
              "BWc/d+pPJIr6vVsU9uCtF5zElKyiGwCgedSLh3/6tintwVovOOciMFNdk0cTdU68+dwCVWrkOVik\n",
              "0GkrQUoNWdg9RWpgJeXH6fPFCSIpxHV/NngxnGlKyPJJLKcm4P38+l3hq/+Ajykni4foecAtH6Yg\n",
              "nN4peuhhi8vC+KUOEkb5vpRyzmDaKSNvU507mEqgWp7MUOnOCKbJcWHlJEGYqpkNV8yips6/k7g2\n",
              "mNMSgzOT5Rz0mCKptTJ2pYGk5k9w7kTMo6P9OACRZkVvfn5TSsWCGlGpAFVlfi0Jm3ooO8EoPPUH\n",
              "TKUKMu/RG3g0ZO7HnKEL8lNctkw9PhppyjPjrtyaj0QynohSHVwY56EJKNfD7chOQ4JB5/hKxmS+\n",
              "cYNACbQoaQobEb4Ag5FYe62ou6wD1c4knLA7O846SLvLscMINsE834tNfFyodHLpyXrheAYfjEH1\n",
              "wime6Eg68ORoMNmanOaxhLyUf6qxSZzugxjJXBpxSplVgPmMbwUE0DvukS0bCteebEFXZvSJEe7x\n",
              "lTHlYiJQbspi8o+KC9UxuqG9PFsAEf2zvIblqlF6ouGfPnrUPKjzClmMim9JGfL5c/3lHFJeY46A\n",
              "HOaap2iBvP5/rYgTok2bACPfXqGSprKN6KRSahB8nY/wuucyDY0pIRgofmfoCxXeyvDsuohSfylH\n",
              "MFNDIfMWhH0Ce0vYOZG6GuUnlbsxME3fDPzmNN0u0uovr5ZlUStlsgNrqpkrXT7b1PB1Vt0FU6FT\n",
              "pAHYCF6/ePzOH4BYbwcymIdIXlNiUiM1EMIbP1+f+vuYMbQW3Ydt7PkxS1Y9kJK2CsQdeGcCoUwa\n",
              "BX/ua/nuoThf0IoI7UJR7W/WbsgBLHeCN2af5wzjvWnVwuBF4R1mxn+6oyYxKH3uByvmsWQC5ZAx\n",
              "hEzh7IIM5lXKmreTrbDayUOXufbZnbHPz/EQZ57+zKugDEVfJtosZAj9LS3Y4cywir0D4sJqJTwj\n",
              "zv/nw7AXDtpusLBTdIrbWRJpbscOZYRV58ChNGYk8lj5CB3NgFaUuCFXyo4pru8fWZRBEc1sa3Ns\n",
              "GRmz2C2JWpvo0ZgH25rdGCgqbUBm50XfsZbh9PdLRGVxIwpNOcprVHw8NIvDgKJmDw1qYUsqNsHC\n",
              "mU23/WaV3EtKL1+gtjYzZAXL2WwSr3i9ljv5fyH2qibek/ri+g6KhJn9mH9JfqBb1jUwA5QqqHhU\n",
              "WqFJ6JYFNiZggqgEDdKBNeM8tgRbf2Z95gzrV+cFyGNI0qy57I8r18iY2KB6ZnYJ+R+RqSfNWAIm\n",
              "HH85A+0KGORzQrI8cVHNX7xvQOdiYCjdUXpkUXnYTURWllcXrv5TT6Jb0NWDd+Xl/N0du/kz3We4\n",
              "Zu4hzcqV671Dew/l3eD4auEqCsfzKEpWpgC0P0A2UlYQkmhNfLrdv58gnVd98BdTaxRNbQICGTaa\n",
              "hcyjZDu6PJSoIBtgrod2IXD3uQFq+qMlKf2ShYlqcEjU/bGnPiXX/Kfnq6xpnJmy6GG3kgMeIRD9\n",
              "Gb/xeJxidhRjwyK8MNL5SSuJQF6N5NCY4kZZ6q2khlJav7psCCW1yewxvLQEdGS3achHa+QUZPMD\n",
              "mPWOSrWYewAmyXCd3T3zM7Kn9lb1k3RDTJj7bmF4Yq7g3uXf1JLP47IJg7twvTO14jW8cXV3Zj/P\n",
              "w6Z/IlaZ2KCkimhdXZQLnTb/7sk7fAT+6B658ueNiUymqfdu9frEYu3zHg6wyuAW4uyb4TL5dhYH\n",
              "Y7Sxzrvy5REKTrmEOsMxM3GsJSEObe+7TA8GVIHnOfgO15VnbydoEtPzPs5ARMlaR/En6+brqFW/\n",
              "8UJ9bTGrWeiCBz2jsGKChFP2B037vYZPnVfTTvZpKcWWK1N8A+09vxBrmA9gcAhBXMdRzw2lX5Ex\n",
              "hsYJcmYYa7BuD2ZTey8LkeXV56iBg52M0fQTiyJHI29eCxjT4ZZ4Ra2DL0WtFGFDXcEs+ezvHOj0\n",
              "TyGr1SEwIz2oV8cM7Hz62lVsJ0dcN8kHr/W2/bjej7/BRp6pxzQIr//9MoRXudaH+4fd5gvM0qhm\n",
              "gwafqNFdsnL5onDBUlHiq+fNBSEfN8cX9zeDl7cQ8VeOkqneNucNawcJ0HDtG4HbXZJh33qeL3DG\n",
              "AtQifO/EaX7pazbAL7kqNyEbbE+X6UHd5Jq2P/Z/9xP7u/cXZTH9uA4BQkpNr7b0kIPMxENJ1ioX\n",
              "3t17ZbP/q1qO2CsJchLdXfxuGDlW6MhqCGmifhpLuBS3kwn2yaLDbGLVV56wd+a3p2apVUokvOWg\n",
              "U3l+TQqSF84f1H6wd+a3p2ap05nkep4BuhJAzqjXCpQkreDRJLyzMJQjZXF/uo4Ju6HvZlJt+AL+\n",
              "oXgprXTm2et84yoOBK4mBUKrxkXvEO40Y+XbZx3iZ9sY2S8fvFHUACkPhepDYfYGxtV7Thl7Sbs9\n",
              "SniAOF7mDonmM2B4/PKW/Posm00mpq443hctxykL7WJKI/Ue8MCKNvF8TWYIKeV2+f5LE78pH68H\n",
              "kMn2/9bCn4VF3VjWSINKBH7ZRqATUdG7iKYOEXeWg4UL9lWZU948xfrHTi1p1fWeNrhGhQLQHZQF\n",
              "yr9fTeNNGZiI5ex/WAYNkvbanUcUfoxfNIcY++zPH1k2YOqVichptx0TAWy01XbRq8D/4am/m5cC\n",
              "sfPY/Vdhv0w2/uoaDV30gZbBQGRcKwidK5z3vYX8ZJLsJfav7qUAZJIIkQfkcZA94sYX6Ndy51/2\n",
              "S0LpREe6dLOssmJGJNeZNUV+V39srbMUzyhxh7yVS/MWRYMS/O47S7zMcSR072HP0zTcos6oZH6r\n",
              "UtkfZdVZUUphfrc8kICUfqv5idmK8DTaoP6k4yqmJDc4MuYSk0tvR8smPory4BYeWQhQ1/aKV01q\n",
              "oofJKc82isnTL/pPt7Jly9ib82zkC6ipyQLWkB0Pcpv0ij+G1GtVMOUdY7qZojLjQ+ThKDbQjH5b\n",
              "r7TuF/00JWF/zvhjvaIia2O8PiqFhlgYh6b6XWc7EBOQOyYXIoY1YCN68Jj9bbwt+QnFGi3kXBPz\n",
              "0x4wiV7JagtLpXfQBlCoAbwIDN/nRfgc/NBQB/NoLyOdlEyD7nPNVCMwUBLR93vYEO7H3Ej9kYs2\n",
              "Esh6zl8UXwNXO25U43kXd5VN0VH/+dLpCPyIenlZ0R5aJ4gbNpJxGQ7oL4WNEWcmrb+J7Ek1WjQd\n",
              "9c0KPuM3fhuUzyUn+CG6wtA+c0ecR+ixVVowOsAnd9IflNFIKGkt1RzyA2Hi742z70WugSKco6yC\n",
              "z5D6f5TSmudNZjhxR10KSncOIEIvrQG4JNV1A8Kit4eaDToaw6LSGy4oov/pRW0aXqUAAwiq41AZ\n",
              "yA0f8CeSBuR30kRgUUzSnUbo87kwTx0qQAADZNGo4aO0/Ah0zuRzc+2TW19/FmfE9fPu9YjAss9X\n",
              "GUhQgyEm02QHrWXw+znyOFP3wlXqUS/+vx4X3SZb9tJlvvx8N92gy5JQMIcKeVZuo6Gp7unVo51u\n",
              "6Abo+PZ81i9vZP/tIjYAHFDKeSSFIpUFemI2aN7BYJsUXQKROspXyXp+eXKcBPXOBRtRCOqCApaK\n",
              "M2Kone4tslBcV5qBizskBEHy8ay2HgeOPSQbBSD6uXnc1VbKOaPrR9KwROG6BwpsYfJZCQlpvNF7\n",
              "1rXlnzRCkvsPib+U6Xpth/VSMG3EXqgay7zXZxynZPa015ES+VVFer4AE6FifAovADgkVnMUqdKU\n",
              "dPmgbfaYppqP1RNLTm/2ptOePH3EBk+CzAbRYjSX71zS8N9BEdHOZbjG65XiEKT52PP+kFtrEX6Q\n",
              "uB51Tv9+B5XkPoOyYJ2Iur398Fp/kHjufNVU4LMvo1cp5K0RwYfv9iNxhrLN295Zzl+1PNkqwlYn\n",
              "qqLuAY9mUtp5Wkc6UdYoru3lFanvPbkYG4PY2GTgHThS7fQhUPibM+krUJA7ea+WSiLXPl/ufLs1\n",
              "YwtibcTOFaWVvMYmC2/Fz0hKk3IuhGm9g/kv+MhVP1jYVTWqxppwedPbDZ0d8jss+WWT0RW4BqH8\n",
              "B/Wl57ktiL6Fk2ZVq0S5svlZ0Ky0t3VDruH5+7MgPPZ6YmtherEHmYQef67q3JRchWf9cT8Hs0xQ\n",
              "4WBpg1Gz9sDOVfBWxDJzdeQ4I8B9NGwrIpTVs9IeG9fVJFzHJRiL8bUcfaAjn+1NrQ9OgVgB929f\n",
              "sR2L8W1rJdp0bkRFgY/jcKIptPEG0svTYOYHfZr2gwvEUrvHs1rW0HZUpS3E4o259HV3pG8t6Xwt\n",
              "8qSBz+aj9DuqqLQ34n4XTT70lCrrmn9qp6MOnyy8Awxp8rqyDN/BGR2r71bKQOZxGFe1MytGjfIl\n",
              "zDP3yxXJj431auTYkQ73aJKtoCAAlP6PAkzokclmIG9lG48k83SHIVPXXsPx64QYagZc1Fn0g9Nt\n",
              "ONyzv+Wh1r7SLYp3U88Vt8nVCfvHDB5QE/RQQ64EMZXYk7nnID7TxRihaf0O+WQZhO9NSWubEEjA\n",
              "xqZOJrxde1wD1ah7rc+6UbNwbJUQw0VNnXV/aTOsfq8s76UXt5ehxrujPzqDT/En1Z+FJxLPQTJF\n",
              "uJZLyHHSB0aYQmWys/D1WCAoWl6XnIr3CTCcDcCgucEErnpjh8t4nZGid8gwFWHvb+dwWY1DR9K5\n",
              "GAoOFgjv8zL0C6JxF2vcx84HITKsTo1n6R+T2LiEHp5cLqHsTs6GqYs9qd8tog3SPWi4V7oljAVB\n",
              "deLOswyP9LVxSrYr1c7FYWHRyPfPGXHWTiMO6IThVc3hPL9O9F1ckb0N0JDQl92Mwa5smLRshQL0\n",
              "mu/WOMi1Up6EJX2lGtZd4NNw201kzdeZ7vo7oP2KL0yxCIBA9+f4zjUjM4hieEqxphoFIAZ90RZP\n",
              "Pn47WY4M0fHxkja01CJQIKpxvw6Xkbkk0nIrF4rwQqhBYEZE9mL0Ivr2mSEqHFjwTd5hQk5gRB1D\n",
              "7MGCN/NnIkJjdluPJ5dINkrHeapl8Ah//h5JYLtQy5hoo9Q75M8hghUDyn+Qiisg5DKsTaQsUYRB\n",
              "R/1CzLHYTGvwBu9lxCYeDG4jhMjcSvqlwlkNSpeUFJ0hP1BxIfcbjLK1ByOHQGut1NeRo+RUSRxe\n",
              "CFJ1zI/ZiJMnW/b4ugg1g1THI5b5//avlmN6z01FZO78A70dep/jyGcE1nDFd8jpprsDkO4N8LpT\n",
              "gPxUKmg0/2YbKclsslatPL3EoWyHi8co0ORb/LRoi31crJ2jBySuCPxx7Z2SX3G670IASeE1KAkR\n",
              "9GBnl7vFkyausIXKJ99X7Tt+es61yVDaOGrnZzEZL224hGsv35c/6DwIQ/JEdCucg/+fi2ICUckQ\n",
              "vzK+Wq5+nxs7ZtmNodL/9OwCzmOZMjoNUh1B9rgf64acC1bB56VzPlYbiqSKtSAXbVqDZljh1ivl\n",
              "QQ/r4wfUGU7+zHzFhpOo8Eb+hx5Hv6VXuEfqsR2L/ip6nPki7ZWZDRRUV0S78gVUdVyKsFVW8TAM\n",
              "UcPrCTNg23VUQOgSh+67qLxBks/Xjo9JcHsqMQ5gTTXoMZxepQR99+3iz7Afc8kzhDV7C6r/MgOO\n",
              "79S7UKwJF9d44NcZLGXOTAJtiqYGvFd8jl9RW5/5OE0SU/AL1dPX1JfEBoUMpvdRd56Q4iNMf8rN\n",
              "haZww4BXRI9KLfidLqO7Sdmfdq6yYFV1WyCQafIQnfU8wIU1s9LwMQm2MPLD95f9ABc8VVosSsko\n",
              "pKk5UGs9OgblldO+8lzdPBYFDETPCTYRnqQseo4cqIDwgZ0pDe6pTDoogwyhre3qlzAOOIRGZqNa\n",
              "vgYuQF2O/z9TAuFVTfiIXbAEjuadb2SUH+aE1uiuSX5ZiUcAZ4UMwyxc4YtZv6rapaFqMBWSpa9v\n",
              "OvB8f03DihfNnwXOGLUOGn69RLT87ABWPO2dJXHzfQbw9+/aI7JSOnSbeVKogup/xrU6hk8O4hNn\n",
              "G1+o1GB9HoKd+J150nNaYQOFlrf0BSOgoc/VimXYI0u9SZHPZhnnk1Q1t+fCd68EVIku28POheaQ\n",
              "IYDZlC1oQOQSL1q70KSQp8osC3Ml9u+9bAs8kzva/TX52gQLnvlzRpc1o/UNdX1Hr+jgqlQVoDLA\n",
              "7oAbzaZCatHcTTO+/onx9kAcbYRLzD44KNhLOKJ8fuMz1YqlqwAx0+SCBKHE4JLfrQDehgJ+tBpU\n",
              "MZokYVJi+U851cgBXb//dG6Hk3x/SwYtRxRiIAC2T5NoSR9i9RE77/YVo6jjU0Kai/UQkeoXB7d7\n",
              "Cx0g4Xij7rrESQ/EzqgwD4FTLLq/LJKnATWC61i9SPcvKwxSz4Hhr0/l+3j3J24eROWCccPJKTqE\n",
              "xbXNCAeMLZiCDYncce0yUpdPg5S7k12FSBiNFdxxXHiYTh20YvnrdY2e94wiTFlWwnP7KcB172pV\n",
              "M0Qkl/YP91nyudhEQ/5gWjYXNUhYd5CfWZcgGGcQGdRnzR2DLR1yJ4z2/8BaXjSr0ZcMkOgJlAfG\n",
              "3ToF5EnNN/U6ZyQNIs5H2Zxpu31m1Keyf51YGhNyOXo6Fq4rVheRnO6K8+xkOimX9BhhysUluu74\n",
              "WqsjU+ssqJTSMaSluKxsshF5MMdiZSxFuqnN91E6wZ/ndpM3Qgt4O4auNcsoUkb12B+b/rIWSk9l\n",
              "7h8aN66gRJLVjUOV6kOKKUjX9mexAC6icCg1mRmATuKppm6O8k8pdShYLP1D90XiZNq9xOdr+Hrd\n",
              "QLmf17jeVHHkS+zQa4j2br+o0+IH9uW1+ugviQYKneQ8Y1e30xSS/OFv48TdhfcPRezBdUwJbyVR\n",
              "JEuf/XL6Liv1xTZHFWd8R0/G9KLO5il2iGW93Z//hpWrMbo4Qs0GiEkRjPwykpCwE/tf4dUTZQrr\n",
              "vWYG1s7NrBC7WD3JafLfy6dZ8/Hnr3CQtQQednFHLYrvSq9E1+lw7jpfVD0b9n7YjLMp7fH/mDIk\n",
              "K9ouSThgQhs45IZI9fAbeXFwPI9mxr5PuxHmpn7S+phu5aRDzBJCGJ6XL8qdpQlF0Ms7Dip/9YMO\n",
              "Q2mXCJNZbI+1RD8d5GdS800BtnaHpemqHLUjxYvt/gQrXpNR4k1Omz/uXUnXPubJp7tWlO8fJJhJ\n",
              "sHFmGD3HqhX9a1+vh6ly+zWHhIUw4dyB1uOihSiRDf+5cNr3GXmR9Oxe99jmdZpJnoLW6pmGUw7f\n",
              "1pfcL402XM5pjiG1EcE+YqoPlYcnLh1OK+UDnOPjl//QK+YIHxczO2jmRUJP0V2kpybSsQs4Mb8m\n",
              "5LsY/vYvlEH2rxjzN24bX5mN6bdMS9Gz0Zo911ireXkpU+PiAzCSF8enQgd9XPYFDMTnS/Zn4sJl\n",
              "7vo9Z7TZ7bOYyZ1VEk+6EHHhuIFHLVOwfqbaVkFx817UKRGnpM2hJWVQqg7Zyx5KXJFHR45Q4vhN\n",
              "WCcykWP5465YjzwYmaBd9S0fapWu1uBCvHJhp7BfMjAJliqm8JAreVJYS/BibDkYSEOXYQnHYfUt\n",
              "3CW+qzFEVwWbiIjXaSEateF5nwvtocYk8O/fhPvgjz+8/ouT0soFkbcFMvvZy16JMg1ls0j/q2uH\n",
              "o5O/hzqAet2Nedl5gyRoW5g2JPOUPl5El9/TFos8TKEtuv8vJHskeBu1M4jX0tYAlKlLhWdnTzPL\n",
              "RXBawONQexokbsZe+gJ0712FCI6L2gQfQB20pN+0Ggfc3yLvobwLGwn7ZiZZvhnhDcBYmaR7ufR1\n",
              "MosZWITsgEAFumZGRg89TclCOLEZyzWyIZd7Vgkw8g9c5hJzGTBRwnOwCo1uLTdXT6JHXD7hFpI9\n",
              "wWOxNw/EzzdfFtJ52vTGGIaX/fqLklFbkMHd2zr/puwnv+rXGaVKV5TNzQRYHHwPyKnUaptuNXdB\n",
              "fpIFg/01pq+aeeyP2QXTxhQy6pE6MKMR4Y35iE6zZ1bEGmzk/mWUYZ67O75iy1VQpg4/uckw80GR\n",
              "FwEW6JK7NW48lVcz5D7M3LJ3BIWvxbiqPON3KgLZrsZgKObUM7TtWgXgAZCMY4EKHTyKuHN7iFUs\n",
              "tAA3wakYJbHPwPp83vhxeR2MGwzspCxINd2wG83HbZkOQYujFviv+uJf+5JL3pIzzgOSZP3wk8Bq\n",
              "xosS5qp8zf032f8ItJka3QJLlca52R6t3gOu6cChlVOHmBvBj/XYsteUYiHgDn/VrPHa2mx3B9Wq\n",
              "ZWRdAa/RNp4PdEolCldNggYeRU+4lmi1b34/kB2Ax/IobixsrRC7B8UjtiSmUt8SwFWqiEU2t0D/\n",
              "XOT+Ceqc0HkYre85Ti+/GMdSI7ls7KAUqqxyKiSwxLr2C6kih5iy8gx5ZBQJO9f+877Z4Ma+N6Qe\n",
              "NNKbInXYynR/RWM6VioMdW3AgkpzKIfK8JkbS3Z3Nif7JWyNMcaSckyjEUKQObCKW01UWyTIntYU\n",
              "jiU0gkwbKgOVAOTXI81JObfv4+ZZjnnSjARDwnDzP4Dto3/zzooBRfGEyG08qyfqVnCIC1GOdBi2\n",
              "XeFqHVEruArW3YPh6q0/Edg7NLq4tOdf5J9ANHwNFuAV7bvPBAp6zEFPfm+5a/Dzjnyzg4Sf8P/8\n",
              "kXdCAnhCbcSvKATPC1dEePy3/tDfZ9c9MSnqMnHgIazB1+hYzfgL80cm4IxlUxLdoNWhucuUo5VV\n",
              "4wpoue6PQ9OVgbyVeNmCXrTZuSDLx/yof4DrRsmK3C1ygG8ZqhuAFMGgV/7cvqwQpeK4sFV/IN7A\n",
              "oxGimM3uf3OkAZW0XXZWFCGXdBbRHCCOuqI+Tct7Oqnqk/PVbZGaPjRR2wGpfmatJY13p+z5PLNE\n",
              "cbPN+RetYgL4K1xyf+mVjPpplX+AwpMk4v5dnUiK5aQDPmIWBlgtiGeAAQScXp1/LqGn/0gUxebI\n",
              "eEUy4G/s/Fc/UZIT92H2pfE6io8PwiDZRHjQkV3APkKQZPs7mFRstA9EZGentMTnsQo75+PFXykq\n",
              "FHmbm7N1Ki0HTA09jixyacd6H3xEffhdx+T0t8xDzpBLwxPXSFPySfKRBaB+osL2t3sMp6nbwzA/\n",
              "4TMmHVsALMOQkH5qxtcYcs6VUe7Hzii6vq/CcJ/y3j4OEi8+C0bOL7bvpOxSXGobXQJQW7Kmp+jG\n",
              "reImzhDHz5DHpA+d3gKjiJVeK/fgvev+FqUG4vo9DSIG2N8FEIX84fpdC4oxtpiowlfs3leQ33wr\n",
              "cDk1XwKtNqFydoGwpLnaPlPnGqlKr9065JfyxuN/gTKavnkdWOrphvub6H7vkS1oZwdpAIeUszD1\n",
              "dIOyZyZjIJk/CSc3tsJO+vqwEtoxtc6zCjik/0S677NQJXETR91R2+xOUx4otM0uPVU0swe8W64Q\n",
              "7aJ3TTjIf3VhzQinIsb+H15J1G21JpWdrZ0D0cDlimLHOGqnup9SUKg6/cSdOOpgZsuVr6Q48tMG\n",
              "CsscRjE0k878Qyp7fnmiWpPMML+M5Fr3EkAEFgO97MSEubhGQ6B509feP6C86ujyZiBV6GUKmrfT\n",
              "oRThROUmWa9QJpwFcuLDpXwTLT8TbyonL4UXK74zMFMrx/ItW4U7+wc+lcMBL5UpjYQ+CD49vDxq\n",
              "c4Xt/nVm1YxdJxeRtrKbh9u1VAUutGhpJvASTAAhyUxO1d87vWBfKyHKs16Jp0+28tKH9QqdNPpO\n",
              "uUccP7USUMXxF8NcIWfCx2iplo6jEzxRq8aWpRwtt7U8NHw4jH0ZjYyDgnEKH9kXtMnu3w+wQjNS\n",
              "DcUa/gKAsw5BZNw35YVlw7QeCf6f+cKr9sEGH3rsUThTuk59NwU/ZqaYaDbgfjGd114slUOViip+\n",
              "SRW4jayeQFlK9ROlv0flPoPC+ha3tip6BZRLGu26UF38TchMDSMvWXH3OwRvVTyyKKItneZ32vBW\n",
              "mFwsY4cXBgMVCuMjTF8f/XTX9VOuZmTT6ZECDyGxCiUPaYV6biRIyQfJBJK+RDjzgNipHvPmBSul\n",
              "DhToNjgWTLWY04qbxNRTo67eKoXm03OwNoyU66aJutbCHd60v/dg3VeYvdbh2ZZKataeB4bUUNeP\n",
              "ivPFfg2KBgE8yGafQGIYiuiqDrgN8fC78YvNnyhmEpABJ3IiR2jffL9Za96F0DXGcog0ytehOKTB\n",
              "0av524LsbxdzjtprWrv5lhm6Rgt0q4qUHvU9X3N5KQ4o9Ppr7F7rMMxt1W0xbBNROP1w6ubMXEQ6\n",
              "dLbSU03iAboA/QTdyo/055+Zo/MLJljQ6WQN7dKWYDfCxGNFiQVYsLtXVWiGetyeQMecc3PigN7T\n",
              "qAyJJZmJ4rYg9cFczqgOKdC8WEH585wbbJABJYR+Oss3vsCnLDsocRNyFLfkvtIMC57A9Ap45hEr\n",
              "FgNgtTcQDRjTIDcRVXVOw6SZp4BDzkGRGAvxyrV3rrTtewWNyIGcZLApoR68YozQBvtB1bpACBug\n",
              "N/kTMKkcUwyCA9uy1I9Rd4ZsRrNDkT8tKuiorrKSgHPxsU0ujwR4YG0qoDb0mlK8e3mEljSzbN1m\n",
              "JnRNOT1nx52pzzln/egv8azUIW4DbPknNXz9rltxNNMlT/qD2vqzrZo9SQWjhC0GvU9LtjiysC2+\n",
              "Fcii9Gti6laEEKrzk5JTRyv8vnLTUlEdab89UaAJhaqbltkfGhs2ItsvXNJpwgfk++YNj5HhZdMk\n",
              "Ii2KsrK6mhfTIr1rO1by7/zO+q2h4LIrM1CRubLiVs5+SJxN34goKxc0NhHGASXBP/NN36+5Hgp7\n",
              "8oOWdIHGUbTOixPrdc/hK6+caF3kpqIPj8vED+7kflSIrsarLK4Os844BpdPagBQnddVo8HOf600\n",
              "FreWqtYjV5sr75jHN7qB3luDfUvf9foJGJBgLzYKgn9Nkquok399HmqVmaLqT5vkJjQO+oBsEDd0\n",
              "XgkVSrDKyuKa/3RwDezIDk40zcmAl4foKwwGXFx60GJ5CeAEk/njHi83Wbg92A8//8teq8azU8KC\n",
              "zG0/OUbl7jnuN2+4cSpyyzQHYLKScJZm5QYW9ElPi9+Wsr0LhEGvKO3qGpI+z89BMK1v7SQNg9Bo\n",
              "JtmbHz5i4fuV8WQDktw6Wp+S/1+pi6sc1xX4E+iRbZRy5AS3NgIjNRXbN6dG3gvoB4+NkOeFscVX\n",
              "cR1XMbsWSUhCcScSAIowuAh6Gy35nyamwSAE0rty3cHF8njMrAVIhSHPCNSS7/gLmLrurmNn//xq\n",
              "J8jT5uXqrF0GwsLzuCmJsL9qnXYWGLWW82COei2A24xzO9vPGSfqypZr3AwbY6B/lWHqDgJCaG18\n",
              "nrsTnmBDljipzMdyFtT+ypMrNheEJV84uL1jxq0Nxl64Ob2TDmP591ZgFfeLwHE5DxPPQDCavUtv\n",
              "sOfOvgreTuIat4WBAH6HXC+8WhnsM2+GubIQ+3sP1cndPwEo+vYde6WLMAkcfRdqS94UsSZRK5cw\n",
              "ve/IhIQPDgMZDS2KltCG/+cBSA5He+v3sNO16MnwSQmLiRPpHdd0WJT0tXDIYysLRDS/kt3ypZXu\n",
              "wQ+sISu0X5GxhD9GsuqpqOhLODNPzjR9yAKUhlV+I19jFm5Mtl7qEbejWbGrFwAAFiVoQpq+jZ/f\n",
              "2qKoRVITFRgsHKuTjEaLAkCVr+8GEE7xRUO07xfo0etYpGlQo7hZS6IN6UFRF6K5Yt9jSrub4mq7\n",
              "s3V1cr9sK8+/iR2xvY4mwgWGTo+Q1g89VPGey2SjSkcvGR3u5IcdeJg+bXJNuv+QJBRSD9nJX3oX\n",
              "Ke1BfaDlwzP33i41FLR/Il+O805gO1o8IQAAABdBmiRsQX/+2qZYAAALKWm+s5PIE5JCIAAAAAxB\n",
              "nkJ4gr8AAAMAArcAAAAMAZ5hdEFfAAADAAK3AAAADAGeY2pBXwAAAwACtgAAABVBmmhJqEFomUwI\n",
              "L//+2qZYAAADA+4AAAAOQZ6GRREsFv8AAAMAAb0AAAAMAZ6ldEFfAAADAAK2AAAADAGep2pBXwAA\n",
              "AwACtwAAABVBmqxJqEFsmUwIL//+2qZYAAADA+4AAAAOQZ7KRRUsFv8AAAMAAb0AAAAMAZ7pdEFf\n",
              "AAADAAK3AAAADAGe62pBXwAAAwACtwAAABVBmvBJqEFsmUwIL//+2qZYAAADA+8AAAAOQZ8ORRUs\n",
              "Fv8AAAMAAb0AAAAMAZ8tdEFfAAADAAK2AAAADAGfL2pBXwAAAwACtwAAABVBmzRJqEFsmUwIL//+\n",
              "2qZYAAADA+4AAAAOQZ9SRRUsFv8AAAMAAb0AAAAMAZ9xdEFfAAADAAK3AAAADAGfc2pBXwAAAwAC\n",
              "twAAABVBm3hJqEFsmUwIL//+2qZYAAADA+8AAAAOQZ+WRRUsFv8AAAMAAb0AAAAMAZ+1dEFfAAAD\n",
              "AAK2AAAADAGft2pBXwAAAwACtwAAABVBm7xJqEFsmUwIL//+2qZYAAADA+4AAAAOQZ/aRRUsFv8A\n",
              "AAMAAb0AAAAMAZ/5dEFfAAADAAK3AAAADAGf+2pBXwAAAwACtgAAABVBm+BJqEFsmUwIL//+2qZY\n",
              "AAADA+8AAAAOQZ4eRRUsFv8AAAMAAb0AAAAMAZ49dEFfAAADAAK2AAAADAGeP2pBXwAAAwACtwAA\n",
              "ABVBmiRJqEFsmUwIL//+2qZYAAADA+4AAAAOQZ5CRRUsFv8AAAMAAb0AAAAMAZ5hdEFfAAADAAK3\n",
              "AAAADAGeY2pBXwAAAwACtgAAABVBmmhJqEFsmUwIL//+2qZYAAADA+4AAAAOQZ6GRRUsFv8AAAMA\n",
              "Ab0AAAAMAZ6ldEFfAAADAAK2AAAADAGep2pBXwAAAwACtwAAABVBmqxJqEFsmUwIL//+2qZYAAAD\n",
              "A+4AAAAOQZ7KRRUsFv8AAAMAAb0AAAAMAZ7pdEFfAAADAAK3AAAADAGe62pBXwAAAwACtwAAABVB\n",
              "mvBJqEFsmUwIL//+2qZYAAADA+8AAAAOQZ8ORRUsFv8AAAMAAb0AAAAMAZ8tdEFfAAADAAK2AAAA\n",
              "DAGfL2pBXwAAAwACtwAAABVBmzRJqEFsmUwIL//+2qZYAAADA+4AAAAOQZ9SRRUsFv8AAAMAAb0A\n",
              "AAAMAZ9xdEFfAAADAAK3AAAADAGfc2pBXwAAAwACtwAAABVBm3hJqEFsmUwIL//+2qZYAAADA+8A\n",
              "AAAOQZ+WRRUsFv8AAAMAAb0AAAAMAZ+1dEFfAAADAAK2AAAADAGft2pBXwAAAwACtwAAABVBm7xJ\n",
              "qEFsmUwIL//+2qZYAAADA+4AAAAOQZ/aRRUsFv8AAAMAAb0AAAAMAZ/5dEFfAAADAAK3AAAADAGf\n",
              "+2pBXwAAAwACtgAAABVBm+BJqEFsmUwIL//+2qZYAAADA+8AAAAOQZ4eRRUsFv8AAAMAAb0AAAAM\n",
              "AZ49dEFfAAADAAK2AAAADAGeP2pBXwAAAwACtwAAABVBmiRJqEFsmUwIL//+2qZYAAADA+4AAAAO\n",
              "QZ5CRRUsFv8AAAMAAb0AAAAMAZ5hdEFfAAADAAK3AAAADAGeY2pBXwAAAwACtgAAABVBmmhJqEFs\n",
              "mUwIL//+2qZYAAADA+4AAAAOQZ6GRRUsFv8AAAMAAb0AAAAMAZ6ldEFfAAADAAK2AAAADAGep2pB\n",
              "XwAAAwACtwAAABVBmqxJqEFsmUwIL//+2qZYAAADA+4AAAAOQZ7KRRUsFv8AAAMAAb0AAAAMAZ7p\n",
              "dEFfAAADAAK3AAAADAGe62pBXwAAAwACtwAAABVBmvBJqEFsmUwIL//+2qZYAAADA+8AAAAOQZ8O\n",
              "RRUsFv8AAAMAAb0AAAAMAZ8tdEFfAAADAAK2AAAADAGfL2pBXwAAAwACtwAAABVBmzRJqEFsmUwI\n",
              "L//+2qZYAAADA+4AAAAOQZ9SRRUsFv8AAAMAAb0AAAAMAZ9xdEFfAAADAAK3AAAADAGfc2pBXwAA\n",
              "AwACtwAAABVBm3hJqEFsmUwIL//+2qZYAAADA+8AAAAOQZ+WRRUsFv8AAAMAAb0AAAAMAZ+1dEFf\n",
              "AAADAAK2AAAADAGft2pBXwAAAwACtwAAABVBm7xJqEFsmUwIL//+2qZYAAADA+4AAAAOQZ/aRRUs\n",
              "Fv8AAAMAAb0AAAAMAZ/5dEFfAAADAAK3AAAADAGf+2pBXwAAAwACtgAAABVBm+BJqEFsmUwIL//+\n",
              "2qZYAAADA+8AAAAOQZ4eRRUsFv8AAAMAAb0AAAAMAZ49dEFfAAADAAK2AAAADAGeP2pBXwAAAwAC\n",
              "twAAABVBmiRJqEFsmUwIL//+2qZYAAADA+4AAAAOQZ5CRRUsFv8AAAMAAb0AAAAMAZ5hdEFfAAAD\n",
              "AAK3AAAADAGeY2pBXwAAAwACtgAAABVBmmhJqEFsmUwIL//+2qZYAAADA+4AAAAOQZ6GRRUsFv8A\n",
              "AAMAAb0AAAAMAZ6ldEFfAAADAAK2AAAADAGep2pBXwAAAwACtwAAABVBmqxJqEFsmUwIL//+2qZY\n",
              "AAADA+4AAAAOQZ7KRRUsFv8AAAMAAb0AAAAMAZ7pdEFfAAADAAK3AAAADAGe62pBXwAAAwACtwAA\n",
              "ABVBmvBJqEFsmUwIL//+2qZYAAADA+8AAAAOQZ8ORRUsFv8AAAMAAb0AAAAMAZ8tdEFfAAADAAK2\n",
              "AAAADAGfL2pBXwAAAwACtwAAABVBmzRJqEFsmUwIL//+2qZYAAADA+4AAAAOQZ9SRRUsFv8AAAMA\n",
              "Ab0AAAAMAZ9xdEFfAAADAAK3AAAADAGfc2pBXwAAAwACtwAAABVBm3hJqEFsmUwIL//+2qZYAAAD\n",
              "A+8AAAAOQZ+WRRUsFv8AAAMAAb0AAAAMAZ+1dEFfAAADAAK2AAAADAGft2pBXwAAAwACtwAAABVB\n",
              "m7xJqEFsmUwIL//+2qZYAAADA+4AAAAOQZ/aRRUsFv8AAAMAAb0AAAAMAZ/5dEFfAAADAAK3AAAA\n",
              "DAGf+2pBXwAAAwACtgAAABVBm+BJqEFsmUwIL//+2qZYAAADA+8AAAAOQZ4eRRUsFv8AAAMAAb0A\n",
              "AAAMAZ49dEFfAAADAAK2AAAADAGeP2pBXwAAAwACtwAAABVBmiRJqEFsmUwIL//+2qZYAAADA+4A\n",
              "AAAOQZ5CRRUsFv8AAAMAAb0AAAAMAZ5hdEFfAAADAAK3AAAADAGeY2pBXwAAAwACtgAAABVBmmhJ\n",
              "qEFsmUwIL//+2qZYAAADA+4AAAAOQZ6GRRUsFv8AAAMAAb0AAAAMAZ6ldEFfAAADAAK2AAAADAGe\n",
              "p2pBXwAAAwACtwAAABVBmqxJqEFsmUwIL//+2qZYAAADA+4AAAAOQZ7KRRUsFv8AAAMAAb0AAAAM\n",
              "AZ7pdEFfAAADAAK3AAAADAGe62pBXwAAAwACtwAAABVBmvBJqEFsmUwIL//+2qZYAAADA+8AAAAO\n",
              "QZ8ORRUsFv8AAAMAAb0AAAAMAZ8tdEFfAAADAAK2AAAADAGfL2pBXwAAAwACtwAAABVBmzRJqEFs\n",
              "mUwIL//+2qZYAAADA+4AAAAOQZ9SRRUsFv8AAAMAAb0AAAAMAZ9xdEFfAAADAAK3AAAADAGfc2pB\n",
              "XwAAAwACtwAAABVBm3hJqEFsmUwIL//+2qZYAAADA+8AAAAOQZ+WRRUsFv8AAAMAAb0AAAAMAZ+1\n",
              "dEFfAAADAAK2AAAADAGft2pBXwAAAwACtwAAABVBm7xJqEFsmUwIL//+2qZYAAADA+4AAAAOQZ/a\n",
              "RRUsFv8AAAMAAb0AAAAMAZ/5dEFfAAADAAK3AAAADAGf+2pBXwAAAwACtgAAABVBm+BJqEFsmUwI\n",
              "L//+2qZYAAADA+8AAAAOQZ4eRRUsFv8AAAMAAb0AAAAMAZ49dEFfAAADAAK2AAAADAGeP2pBXwAA\n",
              "AwACtwAAABVBmiRJqEFsmUwIL//+2qZYAAADA+4AAAAOQZ5CRRUsFv8AAAMAAb0AAAAMAZ5hdEFf\n",
              "AAADAAK3AAAADAGeY2pBXwAAAwACtgAAABVBmmhJqEFsmUwIL//+2qZYAAADA+4AAAAOQZ6GRRUs\n",
              "Fv8AAAMAAb0AAAAMAZ6ldEFfAAADAAK2AAAADAGep2pBXwAAAwACtwAAABVBmqxJqEFsmUwIL//+\n",
              "2qZYAAADA+4AAAAOQZ7KRRUsFv8AAAMAAb0AAAAMAZ7pdEFfAAADAAK3AAAADAGe62pBXwAAAwAC\n",
              "twAAABVBmvBJqEFsmUwIL//+2qZYAAADA+8AAAAOQZ8ORRUsFv8AAAMAAb0AAAAMAZ8tdEFfAAAD\n",
              "AAK2AAAADAGfL2pBXwAAAwACtwAAABVBmzRJqEFsmUwIL//+2qZYAAADA+4AAAAOQZ9SRRUsFv8A\n",
              "AAMAAb0AAAAMAZ9xdEFfAAADAAK3AAAADAGfc2pBXwAAAwACtwAAABVBm3hJqEFsmUwIL//+2qZY\n",
              "AAADA+8AAAAOQZ+WRRUsFv8AAAMAAb0AAAAMAZ+1dEFfAAADAAK2AAAADAGft2pBXwAAAwACtwAA\n",
              "ABVBm7xJqEFsmUwIL//+2qZYAAADA+4AAAAOQZ/aRRUsFv8AAAMAAb0AAAAMAZ/5dEFfAAADAAK3\n",
              "AAAADAGf+2pBXwAAAwACtgAAABVBm+BJqEFsmUwIL//+2qZYAAADA+8AAAAOQZ4eRRUsFv8AAAMA\n",
              "Ab0AAAAMAZ49dEFfAAADAAK2AAAADAGeP2pBXwAAAwACtwAAABVBmiRJqEFsmUwIL//+2qZYAAAD\n",
              "A+4AAAAOQZ5CRRUsFv8AAAMAAb0AAAAMAZ5hdEFfAAADAAK3AAAADAGeY2pBXwAAAwACtgAAABVB\n",
              "mmhJqEFsmUwIL//+2qZYAAADA+4AAAAOQZ6GRRUsFv8AAAMAAb0AAAAMAZ6ldEFfAAADAAK2AAAA\n",
              "DAGep2pBXwAAAwACtwAAABVBmqxJqEFsmUwIL//+2qZYAAADA+4AAAAOQZ7KRRUsFv8AAAMAAb0A\n",
              "AAAMAZ7pdEFfAAADAAK3AAAADAGe62pBXwAAAwACtwAAABVBmvBJqEFsmUwIL//+2qZYAAADA+8A\n",
              "AAAOQZ8ORRUsFv8AAAMAAb0AAAAMAZ8tdEFfAAADAAK2AAAADAGfL2pBXwAAAwACtwAAABVBmzRJ\n",
              "qEFsmUwIL//+2qZYAAADA+4AAAAOQZ9SRRUsFv8AAAMAAb0AAAAMAZ9xdEFfAAADAAK3AAAADAGf\n",
              "c2pBXwAAAwACtwAAABVBm3hJqEFsmUwIL//+2qZYAAADA+8AAAAOQZ+WRRUsFv8AAAMAAb0AAAAM\n",
              "AZ+1dEFfAAADAAK2AAAADAGft2pBXwAAAwACtwAAABVBm7xJqEFsmUwIL//+2qZYAAADA+4AAAAO\n",
              "QZ/aRRUsFv8AAAMAAb0AAAAMAZ/5dEFfAAADAAK3AAAADAGf+2pBXwAAAwACtgAAABVBm+BJqEFs\n",
              "mUwIL//+2qZYAAADA+8AAAAOQZ4eRRUsFv8AAAMAAb0AAAAMAZ49dEFfAAADAAK2AAAADAGeP2pB\n",
              "XwAAAwACtwAAABVBmiRJqEFsmUwIL//+2qZYAAADA+4AAAAOQZ5CRRUsFv8AAAMAAb0AAAAMAZ5h\n",
              "dEFfAAADAAK3AAAADAGeY2pBXwAAAwACtgAAABVBmmhJqEFsmUwIL//+2qZYAAADA+4AAAAOQZ6G\n",
              "RRUsFv8AAAMAAb0AAAAMAZ6ldEFfAAADAAK2AAAADAGep2pBXwAAAwACtwAAABVBmqxJqEFsmUwI\n",
              "L//+2qZYAAADA+4AAAAOQZ7KRRUsFv8AAAMAAb0AAAAMAZ7pdEFfAAADAAK3AAAADAGe62pBXwAA\n",
              "AwACtwAAABVBmvBJqEFsmUwIL//+2qZYAAADA+8AAAAOQZ8ORRUsFv8AAAMAAb0AAAAMAZ8tdEFf\n",
              "AAADAAK2AAAADAGfL2pBXwAAAwACtwAAABVBmzRJqEFsmUwIL//+2qZYAAADA+4AAAAOQZ9SRRUs\n",
              "Fv8AAAMAAb0AAAAMAZ9xdEFfAAADAAK3AAAADAGfc2pBXwAAAwACtwAAABVBm3hJqEFsmUwILf/+\n",
              "1qVQAAADA+8AAAAOQZ+WRRUsFv8AAAMAAb0AAAAMAZ+1dEFfAAADAAK2AAAADAGft2pBXwAAAwAC\n",
              "twAAABVBm7lJqEFsmUwIK//+1qVQAAADA+4AABqabW9vdgAAAGxtdmhkAAAAAAAAAAAAAAAAAAAD\n",
              "6AAHoSAAAQAAAQAAAAAAAAAAAAAAAAEAAAAAAAAAAAAAAAAAAAABAAAAAAAAAAAAAAAAAABAAAAA\n",
              "AAAAAAAAAAAAAAAAAAAAAAAAAAAAAAAAAAAAAgAAGcR0cmFrAAAAXHRraGQAAAADAAAAAAAAAAAA\n",
              "AAABAAAAAAAHoSAAAAAAAAAAAAAAAAAAAAAAAAEAAAAAAAAAAAAAAAAAAAABAAAAAAAAAAAAAAAA\n",
              "AABAAAAAAbAAAAEgAAAAAAAkZWR0cwAAABxlbHN0AAAAAAAAAAEAB6EgAACAAAABAAAAABk8bWRp\n",
              "YQAAACBtZGhkAAAAAAAAAAAAAAAAAABAAAB9AABVxAAAAAAALWhkbHIAAAAAAAAAAHZpZGUAAAAA\n",
              "AAAAAAAAAABWaWRlb0hhbmRsZXIAAAAY521pbmYAAAAUdm1oZAAAAAEAAAAAAAAAAAAAACRkaW5m\n",
              "AAAAHGRyZWYAAAAAAAAAAQAAAAx1cmwgAAAAAQAAGKdzdGJsAAAAs3N0c2QAAAAAAAAAAQAAAKNh\n",
              "dmMxAAAAAAAAAAEAAAAAAAAAAAAAAAAAAAAAAbABIABIAAAASAAAAAAAAAABAAAAAAAAAAAAAAAA\n",
              "AAAAAAAAAAAAAAAAAAAAAAAAAAAAGP//AAAAMWF2Y0MBZAAV/+EAGGdkABWs2UGwloQAAAMABAAA\n",
              "AwAIPFi2WAEABmjr48siwAAAABx1dWlka2hA8l8kT8W6OaUbzwMj8wAAAAAAAAAYc3R0cwAAAAAA\n",
              "AAABAAAB9AAAQAAAAAAYc3RzcwAAAAAAAAACAAAAAQAAAPsAAA+oY3R0cwAAAAAAAAHzAAAAAQAA\n",
              "gAAAAAABAAFAAAAAAAEAAIAAAAAAAQAAAAAAAAABAABAAAAAAAEAAQAAAAAAAgAAQAAAAAABAADA\n",
              "AAAAAAEAAEAAAAAAAQABQAAAAAABAACAAAAAAAEAAAAAAAAAAQAAQAAAAAABAADAAAAAAAEAAEAA\n",
              "AAAAAQABQAAAAAABAACAAAAAAAEAAAAAAAAAAQAAQAAAAAABAAFAAAAAAAEAAIAAAAAAAQAAAAAA\n",
              "AAABAABAAAAAAAEAAUAAAAAAAQAAgAAAAAABAAAAAAAAAAEAAEAAAAAAAQABQAAAAAABAACAAAAA\n",
              "AAEAAAAAAAAAAQAAQAAAAAABAAFAAAAAAAEAAIAAAAAAAQAAAAAAAAABAABAAAAAAAEAAMAAAAAA\n",
              "AQAAQAAAAAABAAFAAAAAAAEAAIAAAAAAAQAAAAAAAAABAABAAAAAAAEAAUAAAAAAAQAAgAAAAAAB\n",
              "AAAAAAAAAAEAAEAAAAAAAQABQAAAAAABAACAAAAAAAEAAAAAAAAAAQAAQAAAAAABAAFAAAAAAAEA\n",
              "AIAAAAAAAQAAAAAAAAABAABAAAAAAAEAAUAAAAAAAQAAgAAAAAABAAAAAAAAAAEAAEAAAAAAAQAB\n",
              "QAAAAAABAACAAAAAAAEAAAAAAAAAAQAAQAAAAAABAAFAAAAAAAEAAIAAAAAAAQAAAAAAAAABAABA\n",
              "AAAAAAEAAUAAAAAAAQAAgAAAAAABAAAAAAAAAAEAAEAAAAAAAQABQAAAAAABAACAAAAAAAEAAAAA\n",
              "AAAAAQAAQAAAAAABAAFAAAAAAAEAAIAAAAAAAQAAAAAAAAABAABAAAAAAAEAAUAAAAAAAQAAgAAA\n",
              "AAABAAAAAAAAAAEAAEAAAAAAAQABQAAAAAABAACAAAAAAAEAAAAAAAAAAQAAQAAAAAABAAFAAAAA\n",
              "AAEAAIAAAAAAAQAAAAAAAAABAABAAAAAAAEAAUAAAAAAAQAAgAAAAAABAAAAAAAAAAEAAEAAAAAA\n",
              "AQABQAAAAAABAACAAAAAAAEAAAAAAAAAAQAAQAAAAAABAAFAAAAAAAEAAIAAAAAAAQAAAAAAAAAB\n",
              "AABAAAAAAAEAAUAAAAAAAQAAgAAAAAABAAAAAAAAAAEAAEAAAAAAAQABQAAAAAABAACAAAAAAAEA\n",
              "AAAAAAAAAQAAQAAAAAABAAFAAAAAAAEAAIAAAAAAAQAAAAAAAAABAABAAAAAAAEAAUAAAAAAAQAA\n",
              "gAAAAAABAAAAAAAAAAEAAEAAAAAAAQABQAAAAAABAACAAAAAAAEAAAAAAAAAAQAAQAAAAAABAAFA\n",
              "AAAAAAEAAIAAAAAAAQAAAAAAAAABAABAAAAAAAEAAUAAAAAAAQAAgAAAAAABAAAAAAAAAAEAAEAA\n",
              "AAAAAQABQAAAAAABAACAAAAAAAEAAAAAAAAAAQAAQAAAAAABAAFAAAAAAAEAAIAAAAAAAQAAAAAA\n",
              "AAABAABAAAAAAAEAAUAAAAAAAQAAgAAAAAABAAAAAAAAAAEAAEAAAAAAAQABQAAAAAABAACAAAAA\n",
              "AAEAAAAAAAAAAQAAQAAAAAABAAFAAAAAAAEAAIAAAAAAAQAAAAAAAAABAABAAAAAAAEAAUAAAAAA\n",
              "AQAAgAAAAAABAAAAAAAAAAEAAEAAAAAAAQABQAAAAAABAACAAAAAAAEAAAAAAAAAAQAAQAAAAAAB\n",
              "AAFAAAAAAAEAAIAAAAAAAQAAAAAAAAABAABAAAAAAAEAAUAAAAAAAQAAgAAAAAABAAAAAAAAAAEA\n",
              "AEAAAAAAAQABQAAAAAABAACAAAAAAAEAAAAAAAAAAQAAQAAAAAABAAFAAAAAAAEAAIAAAAAAAQAA\n",
              "AAAAAAABAABAAAAAAAEAAUAAAAAAAQAAgAAAAAABAAAAAAAAAAEAAEAAAAAAAQABQAAAAAABAACA\n",
              "AAAAAAEAAAAAAAAAAQAAQAAAAAABAAFAAAAAAAEAAIAAAAAAAQAAAAAAAAABAABAAAAAAAEAAUAA\n",
              "AAAAAQAAgAAAAAABAAAAAAAAAAEAAEAAAAAAAQABQAAAAAABAACAAAAAAAEAAAAAAAAAAQAAQAAA\n",
              "AAABAAFAAAAAAAEAAIAAAAAAAQAAAAAAAAABAABAAAAAAAEAAUAAAAAAAQAAgAAAAAABAAAAAAAA\n",
              "AAEAAEAAAAAAAQABQAAAAAABAACAAAAAAAEAAAAAAAAAAQAAQAAAAAABAAFAAAAAAAEAAIAAAAAA\n",
              "AQAAAAAAAAABAABAAAAAAAEAAUAAAAAAAQAAgAAAAAABAAAAAAAAAAEAAEAAAAAAAQABQAAAAAAB\n",
              "AACAAAAAAAEAAAAAAAAAAQAAQAAAAAABAAFAAAAAAAEAAIAAAAAAAQAAAAAAAAABAABAAAAAAAEA\n",
              "AUAAAAAAAQAAgAAAAAABAAAAAAAAAAEAAEAAAAAAAQABQAAAAAABAACAAAAAAAEAAAAAAAAAAQAA\n",
              "QAAAAAABAAFAAAAAAAEAAIAAAAAAAQAAAAAAAAABAABAAAAAAAEAAUAAAAAAAQAAgAAAAAABAAAA\n",
              "AAAAAAEAAEAAAAAAAQABQAAAAAABAACAAAAAAAEAAAAAAAAAAQAAQAAAAAABAAFAAAAAAAEAAIAA\n",
              "AAAAAQAAAAAAAAABAABAAAAAAAEAAUAAAAAAAQAAgAAAAAABAAAAAAAAAAEAAEAAAAAAAQAAgAAA\n",
              "AAABAAFAAAAAAAEAAIAAAAAAAQAAAAAAAAABAABAAAAAAAEAAUAAAAAAAQAAgAAAAAABAAAAAAAA\n",
              "AAEAAEAAAAAAAQABQAAAAAABAACAAAAAAAEAAAAAAAAAAQAAQAAAAAABAAFAAAAAAAEAAIAAAAAA\n",
              "AQAAAAAAAAABAABAAAAAAAEAAUAAAAAAAQAAgAAAAAABAAAAAAAAAAEAAEAAAAAAAQABQAAAAAAB\n",
              "AACAAAAAAAEAAAAAAAAAAQAAQAAAAAABAAFAAAAAAAEAAIAAAAAAAQAAAAAAAAABAABAAAAAAAEA\n",
              "AUAAAAAAAQAAgAAAAAABAAAAAAAAAAEAAEAAAAAAAQABQAAAAAABAACAAAAAAAEAAAAAAAAAAQAA\n",
              "QAAAAAABAAFAAAAAAAEAAIAAAAAAAQAAAAAAAAABAABAAAAAAAEAAUAAAAAAAQAAgAAAAAABAAAA\n",
              "AAAAAAEAAEAAAAAAAQABQAAAAAABAACAAAAAAAEAAAAAAAAAAQAAQAAAAAABAAFAAAAAAAEAAIAA\n",
              "AAAAAQAAAAAAAAABAABAAAAAAAEAAUAAAAAAAQAAgAAAAAABAAAAAAAAAAEAAEAAAAAAAQABQAAA\n",
              "AAABAACAAAAAAAEAAAAAAAAAAQAAQAAAAAABAAFAAAAAAAEAAIAAAAAAAQAAAAAAAAABAABAAAAA\n",
              "AAEAAUAAAAAAAQAAgAAAAAABAAAAAAAAAAEAAEAAAAAAAQABQAAAAAABAACAAAAAAAEAAAAAAAAA\n",
              "AQAAQAAAAAABAAFAAAAAAAEAAIAAAAAAAQAAAAAAAAABAABAAAAAAAEAAUAAAAAAAQAAgAAAAAAB\n",
              "AAAAAAAAAAEAAEAAAAAAAQABQAAAAAABAACAAAAAAAEAAAAAAAAAAQAAQAAAAAABAAFAAAAAAAEA\n",
              "AIAAAAAAAQAAAAAAAAABAABAAAAAAAEAAUAAAAAAAQAAgAAAAAABAAAAAAAAAAEAAEAAAAAAAQAB\n",
              "QAAAAAABAACAAAAAAAEAAAAAAAAAAQAAQAAAAAABAAFAAAAAAAEAAIAAAAAAAQAAAAAAAAABAABA\n",
              "AAAAAAEAAUAAAAAAAQAAgAAAAAABAAAAAAAAAAEAAEAAAAAAAQABQAAAAAABAACAAAAAAAEAAAAA\n",
              "AAAAAQAAQAAAAAABAAFAAAAAAAEAAIAAAAAAAQAAAAAAAAABAABAAAAAAAEAAUAAAAAAAQAAgAAA\n",
              "AAABAAAAAAAAAAEAAEAAAAAAAQABQAAAAAABAACAAAAAAAEAAAAAAAAAAQAAQAAAAAABAAFAAAAA\n",
              "AAEAAIAAAAAAAQAAAAAAAAABAABAAAAAAAEAAUAAAAAAAQAAgAAAAAABAAAAAAAAAAEAAEAAAAAA\n",
              "AQABQAAAAAABAACAAAAAAAEAAAAAAAAAAQAAQAAAAAABAAFAAAAAAAEAAIAAAAAAAQAAAAAAAAAB\n",
              "AABAAAAAAAEAAUAAAAAAAQAAgAAAAAABAAAAAAAAAAEAAEAAAAAAAQABQAAAAAABAACAAAAAAAEA\n",
              "AAAAAAAAAQAAQAAAAAABAAFAAAAAAAEAAIAAAAAAAQAAAAAAAAABAABAAAAAAAEAAUAAAAAAAQAA\n",
              "gAAAAAABAAAAAAAAAAEAAEAAAAAAAQABQAAAAAABAACAAAAAAAEAAAAAAAAAAQAAQAAAAAABAAFA\n",
              "AAAAAAEAAIAAAAAAAQAAAAAAAAABAABAAAAAAAEAAUAAAAAAAQAAgAAAAAABAAAAAAAAAAEAAEAA\n",
              "AAAAAQABQAAAAAABAACAAAAAAAEAAAAAAAAAAQAAQAAAAAABAAFAAAAAAAEAAIAAAAAAAQAAAAAA\n",
              "AAABAABAAAAAAAEAAUAAAAAAAQAAgAAAAAABAAAAAAAAAAEAAEAAAAAAAQABQAAAAAABAACAAAAA\n",
              "AAEAAAAAAAAAAQAAQAAAAAABAAFAAAAAAAEAAIAAAAAAAQAAAAAAAAABAABAAAAAAAEAAUAAAAAA\n",
              "AQAAgAAAAAABAAAAAAAAAAEAAEAAAAAAAQABQAAAAAABAACAAAAAAAEAAAAAAAAAAQAAQAAAAAAB\n",
              "AAFAAAAAAAEAAIAAAAAAAQAAAAAAAAABAABAAAAAAAEAAUAAAAAAAQAAgAAAAAABAAAAAAAAAAEA\n",
              "AEAAAAAAAQABQAAAAAABAACAAAAAAAEAAAAAAAAAAQAAQAAAAAABAAFAAAAAAAEAAIAAAAAAAQAA\n",
              "AAAAAAABAABAAAAAAAEAAUAAAAAAAQAAgAAAAAABAAAAAAAAAAEAAEAAAAAAAQABQAAAAAABAACA\n",
              "AAAAAAEAAAAAAAAAAQAAQAAAAAABAAFAAAAAAAEAAIAAAAAAAQAAAAAAAAABAABAAAAAAAEAAUAA\n",
              "AAAAAQAAgAAAAAABAAAAAAAAAAEAAEAAAAAAAQABQAAAAAABAACAAAAAAAEAAAAAAAAAAQAAQAAA\n",
              "AAABAAFAAAAAAAEAAIAAAAAAAQAAAAAAAAABAABAAAAAAAEAAUAAAAAAAQAAgAAAAAABAAAAAAAA\n",
              "AAEAAEAAAAAAAQABQAAAAAABAACAAAAAAAEAAAAAAAAAAQAAQAAAAAABAAFAAAAAAAEAAIAAAAAA\n",
              "AQAAAAAAAAABAABAAAAAAAEAAUAAAAAAAQAAgAAAAAABAAAAAAAAAAEAAEAAAAAAAQAAgAAAAAAc\n",
              "c3RzYwAAAAAAAAABAAAAAQAAAfQAAAABAAAH5HN0c3oAAAAAAAAAAAAAAfQAACppAAACEwAAAXIA\n",
              "AAEpAAAA3gAAAbIAAAEZAAABCQAAAT4AAADdAAABjAAAAQAAAADTAAAAtAAAAVsAAADNAAABQwAA\n",
              "ALEAAAC+AAAAnQAAATgAAACtAAAAwQAAAE8AAAEeAAAAnAAAAHQAAABsAAAAswAAAHoAAAB9AAAA\n",
              "YgAAAS8AAABmAAAAUAAAAFEAAADkAAAAUAAAAFQAAAA8AAAAUwAAAEYAAADwAAAAXwAAADsAAAAX\n",
              "AAAAbgAAABcAAAATAAAAEAAAAIIAAAAXAAAAEAAAABMAAAAZAAAAFQAAABAAAAAQAAAAGQAAABUA\n",
              "AAAQAAAAEAAAABkAAAAVAAAAEAAAABAAAAAZAAAAFQAAABAAAAAQAAAAGQAAABUAAAAQAAAAEAAA\n",
              "ABkAAAAVAAAAEAAAABAAAAAZAAAAFQAAABAAAAAQAAAAGQAAABUAAAAQAAAAEAAAABkAAAAVAAAA\n",
              "EAAAABAAAAAZAAAAFQAAABAAAAAQAAAAGQAAABUAAAAQAAAAEAAAABkAAAAVAAAAEAAAABAAAAAZ\n",
              "AAAAFQAAABAAAAAQAAAAGQAAABUAAAAQAAAAEAAAABkAAAAVAAAAEAAAABAAAAAZAAAAFQAAABAA\n",
              "AAAQAAAAGQAAABUAAAAQAAAAEAAAABkAAAAVAAAAEAAAABAAAAAZAAAAFQAAABAAAAAQAAAAGQAA\n",
              "ABUAAAAQAAAAEAAAABkAAAAVAAAAEAAAABAAAAAZAAAAFQAAABAAAAAQAAAAGQAAABUAAAAQAAAA\n",
              "EAAAABkAAAAVAAAAEAAAABAAAAAZAAAAFQAAABAAAAAQAAAAGQAAABUAAAAQAAAAEAAAABkAAAAV\n",
              "AAAAEAAAABAAAAAZAAAAFQAAABAAAAAQAAAAGQAAABUAAAAQAAAAEAAAABkAAAAVAAAAEAAAABAA\n",
              "AAAZAAAAFQAAABAAAAAQAAAAGQAAABUAAAAQAAAAEAAAABkAAAAVAAAAEAAAABAAAAAZAAAAFQAA\n",
              "ABAAAAAQAAAAGQAAABUAAAAQAAAAEAAAABkAAAAVAAAAEAAAABAAAAAZAAAAFQAAABAAAAAQAAAA\n",
              "GQAAABUAAAAQAAAAEAAAABkAAAAVAAAAEAAAABAAAAAZAAAAFQAAABAAAAAQAAAAGQAAABUAAAAQ\n",
              "AAAAEAAAABkAAAAVAAAAEAAAABAAAAAZAAAAFQAAABAAAAAQAAAAGQAAABUAAAAQAAAAEAAAABkA\n",
              "AAAVAAAAEAAAABAAAAAZAAAAFQAAABAAAAAQAAAAGQAAABUAAAAQAAAAEAAAABkAAAAVAAAAEAAA\n",
              "ABAAAAAZAAAAFQAAABAAAAAQAAAtTgAAABsAAAAQAAAAEAAAABAAAAAZAAAAEgAAABAAAAAQAAAA\n",
              "GQAAABIAAAAQAAAAEAAAABkAAAASAAAAEAAAABAAAAAZAAAAEgAAABAAAAAQAAAAGQAAABIAAAAQ\n",
              "AAAAEAAAABkAAAASAAAAEAAAABAAAAAZAAAAEgAAABAAAAAQAAAAGQAAABIAAAAQAAAAEAAAABkA\n",
              "AAASAAAAEAAAABAAAAAZAAAAEgAAABAAAAAQAAAAGQAAABIAAAAQAAAAEAAAABkAAAASAAAAEAAA\n",
              "ABAAAAAZAAAAEgAAABAAAAAQAAAAGQAAABIAAAAQAAAAEAAAABkAAAASAAAAEAAAABAAAAAZAAAA\n",
              "EgAAABAAAAAQAAAAGQAAABIAAAAQAAAAEAAAABkAAAASAAAAEAAAABAAAAAZAAAAEgAAABAAAAAQ\n",
              "AAAAGQAAABIAAAAQAAAAEAAAABkAAAASAAAAEAAAABAAAAAZAAAAEgAAABAAAAAQAAAAGQAAABIA\n",
              "AAAQAAAAEAAAABkAAAASAAAAEAAAABAAAAAZAAAAEgAAABAAAAAQAAAAGQAAABIAAAAQAAAAEAAA\n",
              "ABkAAAASAAAAEAAAABAAAAAZAAAAEgAAABAAAAAQAAAAGQAAABIAAAAQAAAAEAAAABkAAAASAAAA\n",
              "EAAAABAAAAAZAAAAEgAAABAAAAAQAAAAGQAAABIAAAAQAAAAEAAAABkAAAASAAAAEAAAABAAAAAZ\n",
              "AAAAEgAAABAAAAAQAAAAGQAAABIAAAAQAAAAEAAAABkAAAASAAAAEAAAABAAAAAZAAAAEgAAABAA\n",
              "AAAQAAAAGQAAABIAAAAQAAAAEAAAABkAAAASAAAAEAAAABAAAAAZAAAAEgAAABAAAAAQAAAAGQAA\n",
              "ABIAAAAQAAAAEAAAABkAAAASAAAAEAAAABAAAAAZAAAAEgAAABAAAAAQAAAAGQAAABIAAAAQAAAA\n",
              "EAAAABkAAAASAAAAEAAAABAAAAAZAAAAEgAAABAAAAAQAAAAGQAAABIAAAAQAAAAEAAAABkAAAAS\n",
              "AAAAEAAAABAAAAAZAAAAEgAAABAAAAAQAAAAGQAAABIAAAAQAAAAEAAAABkAAAASAAAAEAAAABAA\n",
              "AAAZAAAAEgAAABAAAAAQAAAAGQAAABIAAAAQAAAAEAAAABkAAAASAAAAEAAAABAAAAAZAAAAEgAA\n",
              "ABAAAAAQAAAAGQAAABIAAAAQAAAAEAAAABkAAAASAAAAEAAAABAAAAAZAAAAEgAAABAAAAAQAAAA\n",
              "GQAAABIAAAAQAAAAEAAAABkAAAASAAAAEAAAABAAAAAZAAAAEgAAABAAAAAQAAAAGQAAABRzdGNv\n",
              "AAAAAAAAAAEAAAAsAAAAYnVkdGEAAABabWV0YQAAAAAAAAAhaGRscgAAAAAAAAAAbWRpcmFwcGwA\n",
              "AAAAAAAAAAAAAAAtaWxzdAAAACWpdG9vAAAAHWRhdGEAAAABAAAAAExhdmY1Ny44My4xMDA=\n",
              "\">\n",
              "  Your browser does not support the video tag.\n",
              "</video>"
            ],
            "text/plain": [
              "<IPython.core.display.HTML object>"
            ]
          },
          "metadata": {
            "tags": []
          },
          "execution_count": 12
        },
        {
          "output_type": "display_data",
          "data": {
            "image/png": "[encoded data removed]",
            "text/plain": [
              "<matplotlib.figure.Figure at 0x7f69a52aab70>"
            ]
          },
          "metadata": {
            "tags": []
          }
        }
      ]
    },
    {
      "metadata": {
        "id": "MPsmhErU-2me",
        "colab_type": "code",
        "colab": {}
      },
      "cell_type": "code",
      "source": [
        "# let's first define out cost function \n",
        "# so that we can invoke with updated values of w & b\n",
        "\n",
        "def cost_fn(x, y_actual, w, b):\n",
        "  y_new_pred = w*x + b\n",
        "  mse = (np.square(y_actual - y_new_pred)).mean(axis=0)\n",
        "  return mse\n",
        "  "
      ],
      "execution_count": 0,
      "outputs": []
    },
    {
      "metadata": {
        "id": "62_M0F5SKS9W",
        "colab_type": "code",
        "colab": {}
      },
      "cell_type": "code",
      "source": [
        "def update_parameters(x, y_actual, w, b, learning_rate):\n",
        "    weight_deriv = 0\n",
        "    bias_deriv = 0\n",
        "    num_of_samples = len(x)\n",
        "\n",
        "    # we go over all the samples\n",
        "    for i in range(num_of_samples):\n",
        "        # Calculate partial derivatives\n",
        "        # -2x(y - (wx + b))\n",
        "        weight_deriv += -2*x[i] * (y[i] - (w*x[i] + b))\n",
        "\n",
        "        # -2(y - (wx + b))\n",
        "        bias_deriv += -2*(y[i] - (w*x[i] + b))\n",
        "\n",
        "    # We subtract because the derivatives point in direction of steepest ascent\n",
        "    w -= (weight_deriv / num_of_samples) * learning_rate\n",
        "    b -= (bias_deriv / num_of_samples) * learning_rate\n",
        "\n",
        "    return w, b"
      ],
      "execution_count": 0,
      "outputs": []
    },
    {
      "metadata": {
        "id": "DQU9098tK2lm",
        "colab_type": "code",
        "colab": {}
      },
      "cell_type": "code",
      "source": [
        "def train(x, y_actual, w, b, learning_rate, iters):\n",
        "    cost_history = []\n",
        "    w_history = []\n",
        "    b_history = []\n",
        "    \n",
        "\n",
        "    for i in range(iters):\n",
        "        w, b = update_parameters(x, y, w, b, learning_rate)\n",
        "        w_history.append(w)\n",
        "        b_history.append(b)\n",
        "\n",
        "        cost = cost_fn(x, y, w, b)\n",
        "        cost_history.append(cost)\n",
        "\n",
        "        # Log Progress\n",
        "        if i % 10 == 0:\n",
        "            print(\"iter: \"+str(i) + \" cost: \"+str(cost))\n",
        "\n",
        "    return w, b, cost_history, w_history, b_history"
      ],
      "execution_count": 0,
      "outputs": []
    },
    {
      "metadata": {
        "id": "QgeUIZG7LTu6",
        "colab_type": "code",
        "outputId": "0cc6960d-8a50-4bbf-d0fd-362cd31cf60b",
        "colab": {
          "base_uri": "https://localhost:8080/",
          "height": 345
        }
      },
      "cell_type": "code",
      "source": [
        "w, b, cost_history, w_history, b_history = train(X, y, w1, b, 0.0001, 190)"
      ],
      "execution_count": 30,
      "outputs": [
        {
          "output_type": "stream",
          "text": [
            "iter: 0 cost: 8528.09989299523\n",
            "iter: 10 cost: 3388.6784525950056\n",
            "iter: 20 cost: 1805.3333503302536\n",
            "iter: 30 cost: 1317.301681433061\n",
            "iter: 40 cost: 1166.6397106879024\n",
            "iter: 50 cost: 1119.8919088034984\n",
            "iter: 60 cost: 1105.1512438703621\n",
            "iter: 70 cost: 1100.2695092713138\n",
            "iter: 80 cost: 1098.4247981359415\n",
            "iter: 90 cost: 1097.5158830423868\n",
            "iter: 100 cost: 1096.8955610122853\n",
            "iter: 110 cost: 1096.3644855901734\n",
            "iter: 120 cost: 1095.8612553643584\n",
            "iter: 130 cost: 1095.3669576092516\n",
            "iter: 140 cost: 1094.875766611562\n",
            "iter: 150 cost: 1094.3858876111315\n",
            "iter: 160 cost: 1093.89676742887\n",
            "iter: 170 cost: 1093.4082353075546\n",
            "iter: 180 cost: 1092.920238280759\n"
          ],
          "name": "stdout"
        }
      ]
    },
    {
      "metadata": {
        "id": "Ot8J_MpVNCgn",
        "colab_type": "code",
        "outputId": "024b6b52-ce83-417e-a248-b5891463e458",
        "colab": {
          "base_uri": "https://localhost:8080/",
          "height": 280
        }
      },
      "cell_type": "code",
      "source": [
        "y_pred_2 = w*X + b\n",
        "\n",
        "\n",
        "plt.title(\"Generated data\")\n",
        "plt.scatter(x=df[\"X\"], y=df[\"y\"])\n",
        "plt.plot(X, y_pred_2)\n",
        "plt.show()"
      ],
      "execution_count": 32,
      "outputs": [
        {
          "output_type": "display_data",
          "data": {
            "image/png": "[encoded data removed]",
            "text/plain": [
              "<matplotlib.figure.Figure at 0x7f69a5233a90>"
            ]
          },
          "metadata": {
            "tags": []
          }
        }
      ]
    },
    {
      "metadata": {
        "id": "kZMRgUIANpj7",
        "colab_type": "code",
        "outputId": "5ced12d4-35dc-4fc2-d7bd-9aa46648e3dc",
        "colab": {
          "base_uri": "https://localhost:8080/",
          "height": 280
        }
      },
      "cell_type": "code",
      "source": [
        "plt.title(\"Loss Function vs Weight \")\n",
        "plt.plot(w_history, cost_history)\n",
        "plt.show()"
      ],
      "execution_count": 33,
      "outputs": [
        {
          "output_type": "display_data",
          "data": {
            "image/png": "[encoded data removed]",
            "text/plain": [
              "<matplotlib.figure.Figure at 0x7f69a5233748>"
            ]
          },
          "metadata": {
            "tags": []
          }
        }
      ]
    },
    {
      "metadata": {
        "id": "fmTblP2YQnfb",
        "colab_type": "code",
        "colab": {
          "base_uri": "https://localhost:8080/",
          "height": 280
        },
        "outputId": "3e1236c1-9c6f-4971-e747-1c98531b9a17"
      },
      "cell_type": "code",
      "source": [
        "plt.title(\"Loss Function vs Bias \")\n",
        "plt.plot(b_history, cost_history)\n",
        "plt.show()"
      ],
      "execution_count": 34,
      "outputs": [
        {
          "output_type": "display_data",
          "data": {
            "image/png": "[encoded data removed]",
            "text/plain": [
              "<matplotlib.figure.Figure at 0x7f69a5199400>"
            ]
          },
          "metadata": {
            "tags": []
          }
        }
      ]
    },
    {
      "metadata": {
        "id": "3TLgY1S2q1Ly",
        "colab_type": "text"
      },
      "cell_type": "markdown",
      "source": [
        "# Artificial Neural Networks  --> **THE FUNCTION APPROXIMATORS**\n",
        "\n",
        "\n",
        "\n",
        "\n",
        "\n"
      ]
    },
    {
      "metadata": {
        "id": "qi6mUk9dTIiI",
        "colab_type": "text"
      },
      "cell_type": "markdown",
      "source": [
        "![alt text](https://i.stack.imgur.com/xhGPV.png)"
      ]
    },
    {
      "metadata": {
        "id": "Ayb_QST1U6nt",
        "colab_type": "text"
      },
      "cell_type": "markdown",
      "source": [
        "![alt text](https://images.xenonstack.com/blog/Working-Of-Artificial-Neuron.jpg)"
      ]
    },
    {
      "metadata": {
        "id": "KPCAK-uBfLLy",
        "colab_type": "text"
      },
      "cell_type": "markdown",
      "source": [
        "![alt text](https://cdn-images-1.medium.com/max/1200/0*tUvxnJOc9dxEziaZ.jpg)"
      ]
    },
    {
      "metadata": {
        "id": "UqkhvTcUhAsP",
        "colab_type": "text"
      },
      "cell_type": "markdown",
      "source": [
        "# Machine learning branches"
      ]
    },
    {
      "metadata": {
        "id": "5JN1oaprg7cz",
        "colab_type": "text"
      },
      "cell_type": "markdown",
      "source": [
        "![alt text](https://raw.githubusercontent.com/trekhleb/homemade-machine-learning/master/images/machine-learning-map.png)"
      ]
    },
    {
      "metadata": {
        "id": "ucpKedZETF2M",
        "colab_type": "text"
      },
      "cell_type": "markdown",
      "source": [
        "# What is the relation with Artificial Intelligence ?\n",
        "\n",
        "![alt text](https://i.pinimg.com/originals/08/fa/69/08fa6996cac1b67224cc97e502c799dd.jpg)"
      ]
    },
    {
      "metadata": {
        "id": "ln-i-gjQhq7U",
        "colab_type": "code",
        "colab": {}
      },
      "cell_type": "code",
      "source": [
        ""
      ],
      "execution_count": 0,
      "outputs": []
    }
  ]
}